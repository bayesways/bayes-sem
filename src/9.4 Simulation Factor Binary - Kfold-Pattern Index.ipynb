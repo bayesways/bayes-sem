{
 "cells": [
  {
   "cell_type": "code",
   "execution_count": 88,
   "metadata": {},
   "outputs": [
    {
     "name": "stdout",
     "output_type": "stream",
     "text": [
      "The autoreload extension is already loaded. To reload it, use:\n",
      "  %reload_ext autoreload\n"
     ]
    }
   ],
   "source": [
    "import numpy as np\n",
    "import pandas as pd\n",
    "import pystan\n",
    "from scipy.stats import norm, multivariate_normal, invwishart, invgamma, bernoulli\n",
    "from statsmodels.tsa.stattools import acf\n",
    "import datetime\n",
    "import sys\n",
    "import os\n",
    "\n",
    "from tqdm.notebook import tqdm\n",
    "from codebase.plot import * \n",
    "from codebase.data import * \n",
    "from codebase.file_utils import save_obj, load_obj\n",
    "\n",
    "%matplotlib inline\n",
    "\n",
    "%load_ext autoreload\n",
    "%autoreload 2"
   ]
  },
  {
   "cell_type": "code",
   "execution_count": 89,
   "metadata": {},
   "outputs": [],
   "source": [
    "log_dir = \"./log/binary_data_simulation/kfold2/20200223_030706_kfoldfexp_sim2_m2///\"\n",
    "if log_dir[-1] != \"/\":\n",
    "    print(\"\\n\\nAppending `/`-character at the end of directory\")\n",
    "    log_dir = log_dir+ \"/\"\n",
    "data = load_obj(\"data\", log_dir)"
   ]
  },
  {
   "cell_type": "code",
   "execution_count": 90,
   "metadata": {},
   "outputs": [
    {
     "name": "stdout",
     "output_type": "stream",
     "text": [
      "\n",
      "\n",
      "Checking data integrity...\n",
      "\n",
      "\n"
     ]
    }
   ],
   "source": [
    "print(\"\\n\\nChecking data integrity...\\n\\n\")\n",
    "complete_data = load_obj(\"complete_data\", log_dir)\n",
    "\n",
    "model_posterior_samples = dict()\n",
    "model_posterior_samples[0] = load_obj('ps_0', log_dir)\n",
    "model_posterior_samples[1] = load_obj('ps_1', log_dir)\n",
    "model_posterior_samples[2] = load_obj('ps_2', log_dir)\n"
   ]
  },
  {
   "cell_type": "code",
   "execution_count": 91,
   "metadata": {},
   "outputs": [
    {
     "data": {
      "text/plain": [
       "{'random_seed': 0,\n",
       " 'N': 1000,\n",
       " 'K': 2,\n",
       " 'J': 6,\n",
       " 'alpha': array([0., 0., 0., 0., 0., 0.]),\n",
       " 'beta': array([[1. , 0. ],\n",
       "        [0.8, 0. ],\n",
       "        [0.8, 0.8],\n",
       "        [0. , 1. ],\n",
       "        [0.8, 0.8],\n",
       "        [0. , 0.8]]),\n",
       " 'sigma_z': array([1., 1.]),\n",
       " 'Phi_corr': array([[1. , 0.2],\n",
       "        [0.2, 1. ]]),\n",
       " 'Phi_cov': array([[1. , 0.2],\n",
       "        [0.2, 1. ]]),\n",
       " 'z': array([[-1.61951071, -1.11334743],\n",
       "        [-2.17539248,  0.65913812],\n",
       "        [-0.8285194 , -2.064689  ],\n",
       "        ...,\n",
       "        [-0.21506008, -0.091414  ],\n",
       "        [-1.18581773, -0.98541301],\n",
       "        [ 1.7136435 ,  0.05538257]]),\n",
       " 'y': array([[-4.32504373, -4.38730471, -2.11265848, -2.70652732, -2.31528154,\n",
       "         -2.03919375],\n",
       "        [-3.43862813, -2.51570901, -0.06495358,  2.20002122, -0.61698229,\n",
       "         -1.12253058],\n",
       "        [ 0.21793111,  0.46024436, -1.87478779, -3.04390179, -1.15752816,\n",
       "         -0.97153843],\n",
       "        ...,\n",
       "        [-2.33686579,  0.15087484, -0.73448664, -2.12297416, -3.04573916,\n",
       "          1.32768299],\n",
       "        [-0.66050503, -0.95131846, -1.79373888, -1.77465334,  1.85625543,\n",
       "         -1.20876728],\n",
       "        [ 3.07253054,  0.32507841,  0.05101478, -0.26874053,  1.00247951,\n",
       "          0.15733549]]),\n",
       " 'D': array([[0, 0, 0, 0, 0, 0],\n",
       "        [0, 0, 0, 1, 0, 0],\n",
       "        [1, 1, 0, 0, 0, 0],\n",
       "        ...,\n",
       "        [0, 1, 0, 0, 0, 1],\n",
       "        [0, 0, 0, 0, 1, 0],\n",
       "        [1, 1, 1, 0, 1, 1]]),\n",
       " 'off_diag_residual': False,\n",
       " 'cross_loadings': True,\n",
       " 'method': 3,\n",
       " 'model_type': 'logit',\n",
       " 'Theta': array([[1., 0., 0., 0., 0., 0.],\n",
       "        [0., 1., 0., 0., 0., 0.],\n",
       "        [0., 0., 1., 0., 0., 0.],\n",
       "        [0., 0., 0., 1., 0., 0.],\n",
       "        [0., 0., 0., 0., 1., 0.],\n",
       "        [0., 0., 0., 0., 0., 1.]]),\n",
       " 'Theta_corr': array([[1., 0., 0., 0., 0., 0.],\n",
       "        [0., 1., 0., 0., 0., 0.],\n",
       "        [0., 0., 1., 0., 0., 0.],\n",
       "        [0., 0., 0., 1., 0., 0.],\n",
       "        [0., 0., 0., 0., 1., 0.],\n",
       "        [0., 0., 0., 0., 0., 1.]]),\n",
       " 'sigma_theta': array([1., 1., 1., 1., 1., 1.]),\n",
       " 'e': array([[-2.70553301e+00, -3.09169614e+00,  7.36280385e-02,\n",
       "         -1.59317989e+00, -1.28995028e-01, -1.14851580e+00],\n",
       "        [-1.26323564e+00, -7.75395024e-01,  1.14804991e+00,\n",
       "          1.54088310e+00,  5.96021198e-01, -1.64984107e+00],\n",
       "        [ 1.04645051e+00,  1.12305988e+00,  4.39778924e-01,\n",
       "         -9.79212789e-01,  1.15703855e+00,  6.80212765e-01],\n",
       "        ...,\n",
       "        [-2.12180571e+00,  3.22922903e-01, -4.89307378e-01,\n",
       "         -2.03156016e+00, -2.80055989e+00,  1.40081420e+00],\n",
       "        [ 5.25312700e-01, -2.66427788e-03, -5.67542911e-02,\n",
       "         -7.89240329e-01,  3.59324002e+00, -4.20436877e-01],\n",
       "        [ 1.35888704e+00, -1.04583639e+00, -1.36420608e+00,\n",
       "         -3.24123099e-01, -4.12741350e-01,  1.13029432e-01]]),\n",
       " 'c': 1}"
      ]
     },
     "execution_count": 91,
     "metadata": {},
     "output_type": "execute_result"
    }
   ],
   "source": [
    "data"
   ]
  },
  {
   "cell_type": "code",
   "execution_count": 92,
   "metadata": {},
   "outputs": [
    {
     "data": {
      "text/plain": [
       "dict_keys(['alpha', 'yy', 'beta', 'Marg_cov', 'Omega_cov', 'Phi_cov'])"
      ]
     },
     "execution_count": 92,
     "metadata": {},
     "output_type": "execute_result"
    }
   ],
   "source": [
    "model_posterior_samples[0].keys()"
   ]
  },
  {
   "cell_type": "code",
   "execution_count": 93,
   "metadata": {
    "scrolled": true
   },
   "outputs": [],
   "source": [
    "num_chains = 1\n",
    "num_samples = model_posterior_samples[0]['alpha'].shape[0]\n",
    "num_warmup = model_posterior_samples[0]['alpha'].shape[0]\n",
    "num_iter = num_samples + num_warmup"
   ]
  },
  {
   "cell_type": "code",
   "execution_count": 94,
   "metadata": {},
   "outputs": [],
   "source": [
    "for j in range(3):\n",
    "    ps = model_posterior_samples[j]    \n",
    "    for i in range(num_samples):\n",
    "        sign1 = np.sign(ps['beta'][i,0,0])\n",
    "        sign2 = np.sign(ps['beta'][i,3,1])\n",
    "        ps['beta'][i,:3,0] = ps['beta'][i,:3,0] * sign1\n",
    "        ps['beta'][i,3:,1] = ps['beta'][i,3:,1] * sign2\n",
    "\n",
    "        ps['Phi_cov'][i,0,1] = sign1 * sign2 * ps['Phi_cov'][i,0,1]\n",
    "        ps['Phi_cov'][i,1,0] = ps['Phi_cov'][i,0,1]\n",
    "    model_posterior_samples[j] = ps"
   ]
  },
  {
   "cell_type": "code",
   "execution_count": 95,
   "metadata": {},
   "outputs": [
    {
     "data": {
      "text/plain": [
       "array([[ 0.66, -0.03],\n",
       "       [ 0.41,  0.03],\n",
       "       [ 1.45, -0.04],\n",
       "       [ 0.  ,  0.95],\n",
       "       [-0.04,  1.36],\n",
       "       [ 0.  ,  0.77]])"
      ]
     },
     "execution_count": 95,
     "metadata": {},
     "output_type": "execute_result"
    }
   ],
   "source": [
    "np.round(np.mean(model_posterior_samples[0]['beta'],0),2)"
   ]
  },
  {
   "cell_type": "code",
   "execution_count": 96,
   "metadata": {
    "scrolled": false
   },
   "outputs": [
    {
     "name": "stdout",
     "output_type": "stream",
     "text": [
      "data {\n",
      "  int<lower=1> N;\n",
      "  int<lower=1> K;\n",
      "  int<lower=1> J;\n",
      "  int<lower=0, upper=1> DD[N, J];\n",
      "}\n",
      "\n",
      "transformed data{\n",
      "  cov_matrix[J] I_J = diag_matrix(rep_vector(1, J));\n",
      "}\n",
      "\n",
      "parameters {\n",
      "  vector[J] alpha;\n",
      "  matrix[3,K] beta_free; // 3 free eleements per factor\n",
      "  matrix[J-3,K] beta_zeros; // 3 zero elements per factor\n",
      "  matrix[N,J] yy;\n",
      "  cov_matrix[J] Omega_cov;\n",
      "  cholesky_factor_corr[K] L_Phi;\n",
      "\n",
      "}\n",
      "\n",
      "transformed parameters{\n",
      "  matrix[J,K] beta;\n",
      "  cov_matrix[J] Marg_cov;\n",
      "  corr_matrix[K] Phi_cov;\n",
      "  for(j in 1:J) {\n",
      "    for (k in 1:K) beta[j,k] = 0;\n",
      "  }\n",
      "  // set the free elements\n",
      "  for (k in 1:K) beta[1+3*(k-1) : 3+3*(k-1), k] = beta_free[1:3,k];\n",
      "  // set the zero elements\n",
      "  beta[4:J, 1] = beta_zeros[1:(J-3), 1];\n",
      "  beta[1:(J-3), K] = beta_zeros[1:(J-3), K];\n",
      "  \n",
      "  Phi_cov = multiply_lower_tri_self_transpose(L_Phi);\n",
      "  Marg_cov = beta * Phi_cov * beta'+ Omega_cov;\n",
      "}\n",
      "\n",
      "model {\n",
      "  to_vector(beta_free) ~ normal(0, 1);\n",
      "  to_vector(beta_zeros) ~ normal(0, 0.1);\n",
      "  to_vector(alpha) ~ normal(0, 10);\n",
      "  L_Phi ~ lkj_corr_cholesky(2);\n",
      "  Omega_cov ~ inv_wishart(J+6, I_J);\n",
      "  for (n in 1:N) yy[n,] ~ multi_normal(alpha, Marg_cov);\n",
      "  for (j in 1:J) DD[, j] ~ bernoulli_logit(yy[, j]);\n",
      "}\n",
      "\n",
      "generated quantities{\n",
      "  matrix[J,J] betabeta =  beta * beta';\n",
      "}\n",
      "\n",
      "\n"
     ]
    }
   ],
   "source": [
    "print(open(log_dir+'model.txt').read())"
   ]
  },
  {
   "cell_type": "code",
   "execution_count": 97,
   "metadata": {},
   "outputs": [],
   "source": [
    "import numpy as np\n",
    "import pandas as pd\n",
    "from scipy.stats import multivariate_normal, bernoulli, norm\n",
    "import datetime\n",
    "import sys\n",
    "import os\n",
    "import itertools\n",
    "\n",
    "from codebase.file_utils import save_obj, load_obj\n",
    "from scipy.special import expit\n",
    "from scipy.special import ndtri\n",
    "\n",
    "def to_str_pattern(y0):\n",
    "    if np.ndim(y0) == 1:\n",
    "        return ''.join(y0.astype(str))\n",
    "    if np.ndim(y0) == 2:\n",
    "        y = pd.DataFrame(y0)\n",
    "        yresp = y.apply(lambda x: ''.join(x.astype(str)), axis=1)\n",
    "        return yresp\n",
    "\n",
    "\n",
    "def to_nparray_data(yresp):\n",
    "    if type(yresp) == str:\n",
    "        return np.array(list(yresp)).astype(int)\n",
    "    else:\n",
    "        J = len(yresp[0])\n",
    "        N = yresp.shape[0]\n",
    "        res = np.empty((N,J))\n",
    "        for i in range(N):\n",
    "            res[i] = np.array(list(yresp[i])).astype(int)\n",
    "        return res\n",
    "\n",
    "\n",
    "def get_all_possible_patterns(n):\n",
    "    lst = list(map(list, itertools.product([0, 1], repeat=n)))\n",
    "    return to_str_pattern(lst)\n",
    "\n",
    "\n",
    "def get_exp_probs(data, ps, m , L=100):\n",
    "    ## compute the pi's for the the m-th posterior sample\n",
    "    if 'zz' in ps.keys():\n",
    "        z_mc = multivariate_normal.rvs(np.zeros(data['K']),\n",
    "            ps['Phi_cov'][m], size = L)\n",
    "        ystr = np.empty((L, data['J']))\n",
    "        for l in range(L):\n",
    "            ystr[l] = ps['alpha'][m] + z_mc[l] @ ps['beta'][m].T\n",
    "    elif 'Marg_cov' in ps.keys():\n",
    "        ystr = multivariate_normal.rvs(ps['alpha'][m],\n",
    "            ps['Marg_cov'][m], size = L)\n",
    "    else:\n",
    "        print(\"No matching model\")\n",
    "\n",
    "    # logit\n",
    "    pistr = expit(ystr)\n",
    "\n",
    "    # probit\n",
    "    # pistr = norm.cdf(ystr)\n",
    "\n",
    "    return pistr\n",
    "\n",
    "\n",
    "def get_Ey(data_ptrn, prob, N):\n",
    "    distinct_patterns = np.unique(data_ptrn)\n",
    "    ## compute E_y(theta) for a specific pattern y\n",
    "    Ey = dict()\n",
    "    for ptrn in distinct_patterns:\n",
    "        prob_matrix = bernoulli.logpmf(k=to_nparray_data(ptrn), p = prob)\n",
    "        Ey[ptrn] = N * np.mean(np.exp(np.sum(prob_matrix,1)),0)\n",
    "    return Ey\n",
    "\n",
    "\n",
    "def get_Oy(data_ptrn):\n",
    "    distinct_patterns = np.unique(data_ptrn)\n",
    "    # compute observed pattern occurences\n",
    "    Oy = dict()\n",
    "    for ptrn in distinct_patterns:\n",
    "        Oy[ptrn] = np.count_nonzero(data_ptrn == ptrn)\n",
    "    return Oy\n",
    "\n",
    "\n",
    "def get_Dy(Oy, Ey, data_ptrn):\n",
    "    distinct_patterns = np.unique(data_ptrn)\n",
    "    # compute the discrepancy D\n",
    "    Dy = dict()\n",
    "    for ptrn in distinct_patterns:\n",
    "        Dy[ptrn] = Oy[ptrn] * np.log(Oy[ptrn]/Ey[ptrn])\n",
    "\n",
    "    return Dy\n",
    "\n",
    "\n",
    "def get_PPP(data, ps, nsim = 100, L=100):\n",
    "\n",
    "    nsim_N = ps['alpha'].shape[0]\n",
    "    skip_step = int(nsim_N/nsim)\n",
    "\n",
    "    PPP_vals = np.empty(nsim)\n",
    "    for m_ind in tqdm(range(nsim)):\n",
    "        m = skip_step*m_ind\n",
    "        # compute Dy\n",
    "        pi =  get_exp_probs(data, ps, m, L)\n",
    "        data_ptrn = to_str_pattern(data['DD'])\n",
    "        all_possible_patterns = get_all_possible_patterns(data['J'])\n",
    "        Oy = get_Oy(data_ptrn)\n",
    "        Ey = get_Ey(data_ptrn, pi, data['N'])\n",
    "        Dy = get_Dy(Oy, Ey, data_ptrn)\n",
    "\n",
    "        # complete any missing patterns with 0's\n",
    "    #     new_patterns = set(all_possible_patterns) - set(data_ptrn)\n",
    "    #     if new_patterns == set():\n",
    "    #         pass\n",
    "    # #         print('no new patterns')\n",
    "    #     else:\n",
    "    #         for ptrn in new_patterns:\n",
    "    #             Oy[ptrn] = 0.\n",
    "    #             Dy[ptrn] = 0.\n",
    "\n",
    "\n",
    "        PPP_vals[m_ind] = sum(Dy.values())\n",
    "\n",
    "    return PPP_vals, Dy\n",
    "\n"
   ]
  },
  {
   "cell_type": "code",
   "execution_count": 98,
   "metadata": {},
   "outputs": [
    {
     "data": {
      "application/vnd.jupyter.widget-view+json": {
       "model_id": "b26bab7776b0433e84eac50f0d45306c",
       "version_major": 2,
       "version_minor": 0
      },
      "text/plain": [
       "HBox(children=(IntProgress(value=0), HTML(value='')))"
      ]
     },
     "metadata": {},
     "output_type": "display_data"
    },
    {
     "name": "stdout",
     "output_type": "stream",
     "text": [
      "\n"
     ]
    },
    {
     "data": {
      "application/vnd.jupyter.widget-view+json": {
       "model_id": "eaf40bd5aeb64c8e9e0382b0ce561462",
       "version_major": 2,
       "version_minor": 0
      },
      "text/plain": [
       "HBox(children=(IntProgress(value=0), HTML(value='')))"
      ]
     },
     "metadata": {},
     "output_type": "display_data"
    },
    {
     "name": "stdout",
     "output_type": "stream",
     "text": [
      "\n"
     ]
    },
    {
     "data": {
      "application/vnd.jupyter.widget-view+json": {
       "model_id": "d6fe57b782604ca08ccfa76b122e0eeb",
       "version_major": 2,
       "version_minor": 0
      },
      "text/plain": [
       "HBox(children=(IntProgress(value=0), HTML(value='')))"
      ]
     },
     "metadata": {},
     "output_type": "display_data"
    },
    {
     "name": "stdout",
     "output_type": "stream",
     "text": [
      "\n"
     ]
    },
    {
     "data": {
      "text/plain": [
       "121.03917654456305"
      ]
     },
     "execution_count": 98,
     "metadata": {},
     "output_type": "execute_result"
    }
   ],
   "source": [
    "nsim = 100\n",
    "Ds = np.empty(3)\n",
    "for fold_index in range(3):\n",
    "    PPP_vals, Dy = get_PPP(complete_data[fold_index]['test'], model_posterior_samples[fold_index], nsim)\n",
    "    Ds[fold_index] = np.mean(PPP_vals)\n",
    "\n",
    "np.sum(Ds)\n"
   ]
  },
  {
   "cell_type": "code",
   "execution_count": 99,
   "metadata": {},
   "outputs": [],
   "source": [
    "# sim 0\n",
    "#m1 = 107.85480268402688\n",
    "#m2 =  111."
   ]
  },
  {
   "cell_type": "code",
   "execution_count": 100,
   "metadata": {},
   "outputs": [],
   "source": [
    "# sim1\n",
    "# #m1 = 156.22994039411827\n",
    "# #m2 = 148.84531366870453"
   ]
  },
  {
   "cell_type": "code",
   "execution_count": 101,
   "metadata": {},
   "outputs": [],
   "source": [
    "# sim2\n",
    "# #m1 = 121.79978659604676\n",
    "# #m2 = 121.03917654456305"
   ]
  }
 ],
 "metadata": {
  "kernelspec": {
   "display_name": "Python 3",
   "language": "python",
   "name": "python3"
  },
  "language_info": {
   "codemirror_mode": {
    "name": "ipython",
    "version": 3
   },
   "file_extension": ".py",
   "mimetype": "text/x-python",
   "name": "python",
   "nbconvert_exporter": "python",
   "pygments_lexer": "ipython3",
   "version": "3.6.4"
  }
 },
 "nbformat": 4,
 "nbformat_minor": 2
}
