{
 "cells": [
  {
   "cell_type": "code",
   "execution_count": 23,
   "metadata": {},
   "outputs": [
    {
     "name": "stdout",
     "output_type": "stream",
     "text": [
      "The autoreload extension is already loaded. To reload it, use:\n",
      "  %reload_ext autoreload\n"
     ]
    }
   ],
   "source": [
    "import numpy as np\n",
    "import pandas as pd\n",
    "import pystan\n",
    "from scipy.stats import norm, multivariate_normal, invwishart, invgamma, bernoulli\n",
    "from statsmodels.tsa.stattools import acf\n",
    "import datetime\n",
    "import sys\n",
    "import os\n",
    "\n",
    "from tqdm.notebook import tqdm\n",
    "from codebase.plot import * \n",
    "from codebase.data import * \n",
    "from codebase.file_utils import save_obj, load_obj\n",
    "\n",
    "%matplotlib inline\n",
    "\n",
    "%load_ext autoreload\n",
    "%autoreload 2"
   ]
  },
  {
   "cell_type": "code",
   "execution_count": 24,
   "metadata": {},
   "outputs": [],
   "source": [
    "log_dir = \"./log/binary_data_simulation/kfold0/m1/20200308_235719_4ch_sim0_m1//\"\n",
    "if log_dir[-1] != \"/\":\n",
    "    print(\"\\n\\nAppending `/`-character at the end of directory\")\n",
    "    log_dir = log_dir+ \"/\"\n",
    "data = load_obj(\"data\", log_dir)"
   ]
  },
  {
   "cell_type": "code",
   "execution_count": 25,
   "metadata": {},
   "outputs": [
    {
     "name": "stdout",
     "output_type": "stream",
     "text": [
      "\n",
      "\n",
      "Checking data integrity...\n",
      "\n",
      "\n"
     ]
    }
   ],
   "source": [
    "print(\"\\n\\nChecking data integrity...\\n\\n\")\n",
    "complete_data = load_obj(\"complete_data\", log_dir)\n",
    "\n",
    "model_posterior_samples = dict()\n",
    "model_posterior_samples[0] = load_obj('ps_0', log_dir)\n",
    "model_posterior_samples[1] = load_obj('ps_1', log_dir)\n",
    "model_posterior_samples[2] = load_obj('ps_2', log_dir)\n"
   ]
  },
  {
   "cell_type": "code",
   "execution_count": 26,
   "metadata": {},
   "outputs": [
    {
     "data": {
      "text/plain": [
       "{'random_seed': 0,\n",
       " 'N': 2000,\n",
       " 'K': 2,\n",
       " 'J': 6,\n",
       " 'alpha': array([0., 0., 0., 0., 0., 0.]),\n",
       " 'beta': array([[1. , 0. ],\n",
       "        [0.8, 0. ],\n",
       "        [0.8, 0. ],\n",
       "        [0. , 1. ],\n",
       "        [0. , 0.8],\n",
       "        [0. , 0.8]]),\n",
       " 'sigma_z': array([1., 1.]),\n",
       " 'Phi_corr': array([[1. , 0.2],\n",
       "        [0.2, 1. ]]),\n",
       " 'Phi_cov': array([[1. , 0.2],\n",
       "        [0.2, 1. ]]),\n",
       " 'z': array([[-1.61951071, -1.11334743],\n",
       "        [-2.17539248,  0.65913812],\n",
       "        [-0.8285194 , -2.064689  ],\n",
       "        ...,\n",
       "        [ 0.0127624 , -0.6246135 ],\n",
       "        [-1.35910483, -1.39777625],\n",
       "        [-0.70754609, -1.73566846]]),\n",
       " 'y': array([[-0.62398864,  2.09426518, -0.86156227,  0.8064457 , -4.04106126,\n",
       "          0.26342   ],\n",
       "        [-2.12690119, -0.48704737, -0.30832403, -3.74932225, -0.18691918,\n",
       "         -0.5637349 ],\n",
       "        [-0.58544445, -4.27993112, -2.49696605, -0.39293861, -1.36906947,\n",
       "         -3.4812806 ],\n",
       "        ...,\n",
       "        [ 0.84067238,  0.09329643, -3.0005377 , -1.36119658, -3.01358029,\n",
       "          0.02617155],\n",
       "        [-5.64143384, -1.55678886,  1.60178399, -2.61438049, -0.92099652,\n",
       "         -2.70705147],\n",
       "        [-1.99214061, -2.47971335,  3.46653312,  0.73565628, -0.16605066,\n",
       "         -1.55825629]]),\n",
       " 'D': array([[0, 1, 0, 1, 0, 1],\n",
       "        [0, 0, 0, 0, 0, 0],\n",
       "        [0, 0, 0, 0, 0, 0],\n",
       "        ...,\n",
       "        [1, 1, 0, 0, 0, 1],\n",
       "        [0, 0, 1, 0, 0, 0],\n",
       "        [0, 0, 1, 1, 0, 0]]),\n",
       " 'off_diag_residual': False,\n",
       " 'cross_loadings': False,\n",
       " 'method': 3,\n",
       " 'model_type': 'logit',\n",
       " 'Theta': array([[1., 0., 0., 0., 0., 0.],\n",
       "        [0., 1., 0., 0., 0., 0.],\n",
       "        [0., 0., 1., 0., 0., 0.],\n",
       "        [0., 0., 0., 1., 0., 0.],\n",
       "        [0., 0., 0., 0., 1., 0.],\n",
       "        [0., 0., 0., 0., 0., 1.]]),\n",
       " 'Theta_corr': array([[1., 0., 0., 0., 0., 0.],\n",
       "        [0., 1., 0., 0., 0., 0.],\n",
       "        [0., 0., 1., 0., 0., 0.],\n",
       "        [0., 0., 0., 1., 0., 0.],\n",
       "        [0., 0., 0., 0., 1., 0.],\n",
       "        [0., 0., 0., 0., 0., 1.]]),\n",
       " 'sigma_theta': array([1., 1., 1., 1., 1., 1.]),\n",
       " 'e': array([[ 0.99552207,  3.38987375,  0.4340463 ,  1.91979313, -3.15038332,\n",
       "          1.15409794],\n",
       "        [ 0.04849129,  1.25326662,  1.43198995, -4.40846037, -0.71422967,\n",
       "         -1.0910454 ],\n",
       "        [ 0.24307494, -3.6171156 , -1.83415053,  1.67175039,  0.28268173,\n",
       "         -1.8295294 ],\n",
       "        ...,\n",
       "        [ 0.82790998,  0.08308651, -3.01074762, -0.73658308, -2.51388949,\n",
       "          0.52586235],\n",
       "        [-4.28232901, -0.469505  ,  2.68906785, -1.21660424,  0.19722448,\n",
       "         -1.58883047],\n",
       "        [-1.28459452, -1.91367648,  4.03256999,  2.47132475,  1.22248411,\n",
       "         -0.16972152]]),\n",
       " 'c': 1}"
      ]
     },
     "execution_count": 26,
     "metadata": {},
     "output_type": "execute_result"
    }
   ],
   "source": [
    "data"
   ]
  },
  {
   "cell_type": "code",
   "execution_count": 27,
   "metadata": {},
   "outputs": [
    {
     "data": {
      "text/plain": [
       "odict_keys(['beta', 'alpha', 'zz', 'Phi_cov', 'yy'])"
      ]
     },
     "execution_count": 27,
     "metadata": {},
     "output_type": "execute_result"
    }
   ],
   "source": [
    "model_posterior_samples[0].keys()"
   ]
  },
  {
   "cell_type": "code",
   "execution_count": 30,
   "metadata": {
    "scrolled": true
   },
   "outputs": [],
   "source": [
    "num_chains = 4\n",
    "num_samples = ps['alpha'].shape[0]\n",
    "num_warmup = ps['alpha'].shape[0]\n",
    "num_iter = num_samples + num_warmup"
   ]
  },
  {
   "cell_type": "code",
   "execution_count": 32,
   "metadata": {},
   "outputs": [],
   "source": [
    "for j in range(3):\n",
    "    ps = model_posterior_samples[j]    \n",
    "    for i in range(num_samples):\n",
    "        sign1 = np.sign(ps['beta'][i,chain_number,0,0])\n",
    "        sign2 = np.sign(ps['beta'][i,chain_number,3,1])\n",
    "        ps['beta'][i,chain_number,:3,0] = ps['beta'][i,chain_number,:3,0] * sign1\n",
    "        ps['beta'][i,chain_number,3:,1] = ps['beta'][i,chain_number,3:,1] * sign2\n",
    "\n",
    "        ps['Phi_cov'][i,chain_number,0,1] = sign1 * sign2 * ps['Phi_cov'][i,chain_number,0,1]\n",
    "        ps['Phi_cov'][i,chain_number,1,0] = ps['Phi_cov'][i,chain_number,0,1]\n",
    "    model_posterior_samples[j] = ps"
   ]
  },
  {
   "cell_type": "code",
   "execution_count": 8,
   "metadata": {},
   "outputs": [
    {
     "data": {
      "text/plain": [
       "array([[ 0.66, -0.03],\n",
       "       [ 0.41,  0.03],\n",
       "       [ 1.45, -0.04],\n",
       "       [ 0.  ,  0.95],\n",
       "       [-0.04,  1.36],\n",
       "       [ 0.  ,  0.77]])"
      ]
     },
     "execution_count": 8,
     "metadata": {},
     "output_type": "execute_result"
    }
   ],
   "source": [
    "np.round(np.mean(model_posterior_samples[0]['beta'],0),2)"
   ]
  },
  {
   "cell_type": "code",
   "execution_count": 9,
   "metadata": {
    "scrolled": false
   },
   "outputs": [
    {
     "name": "stdout",
     "output_type": "stream",
     "text": [
      "data {\n",
      "  int<lower=1> N;\n",
      "  int<lower=1> K;\n",
      "  int<lower=1> J;\n",
      "  int<lower=0, upper=1> DD[N, J];\n",
      "}\n",
      "\n",
      "transformed data{\n",
      "  cov_matrix[J] I_J = diag_matrix(rep_vector(1, J));\n",
      "}\n",
      "\n",
      "parameters {\n",
      "  vector[J] alpha;\n",
      "  matrix[3,K] beta_free; // 3 free eleements per factor\n",
      "  matrix[J-3,K] beta_zeros; // 3 zero elements per factor\n",
      "  matrix[N,J] yy;\n",
      "  cov_matrix[J] Omega_cov;\n",
      "  cholesky_factor_corr[K] L_Phi;\n",
      "\n",
      "}\n",
      "\n",
      "transformed parameters{\n",
      "  matrix[J,K] beta;\n",
      "  cov_matrix[J] Marg_cov;\n",
      "  corr_matrix[K] Phi_cov;\n",
      "  for(j in 1:J) {\n",
      "    for (k in 1:K) beta[j,k] = 0;\n",
      "  }\n",
      "  // set the free elements\n",
      "  for (k in 1:K) beta[1+3*(k-1) : 3+3*(k-1), k] = beta_free[1:3,k];\n",
      "  // set the zero elements\n",
      "  beta[4:J, 1] = beta_zeros[1:(J-3), 1];\n",
      "  beta[1:(J-3), K] = beta_zeros[1:(J-3), K];\n",
      "  \n",
      "  Phi_cov = multiply_lower_tri_self_transpose(L_Phi);\n",
      "  Marg_cov = beta * Phi_cov * beta'+ Omega_cov;\n",
      "}\n",
      "\n",
      "model {\n",
      "  to_vector(beta_free) ~ normal(0, 1);\n",
      "  to_vector(beta_zeros) ~ normal(0, 0.1);\n",
      "  to_vector(alpha) ~ normal(0, 10);\n",
      "  L_Phi ~ lkj_corr_cholesky(2);\n",
      "  Omega_cov ~ inv_wishart(J+6, I_J);\n",
      "  for (n in 1:N) yy[n,] ~ multi_normal(alpha, Marg_cov);\n",
      "  for (j in 1:J) DD[, j] ~ bernoulli_logit(yy[, j]);\n",
      "}\n",
      "\n",
      "generated quantities{\n",
      "  matrix[J,J] betabeta =  beta * beta';\n",
      "}\n",
      "\n",
      "\n"
     ]
    }
   ],
   "source": [
    "print(open(log_dir+'model.txt').read())"
   ]
  },
  {
   "cell_type": "code",
   "execution_count": null,
   "metadata": {},
   "outputs": [],
   "source": [
    "%%opts Layout [fig_size=200]\n",
    "\n",
    "chain_number = 1\n",
    "plots = []\n",
    "for j in range(data['J']):\n",
    "    for k in range(data['K']):\n",
    "        plots.append(plot_trace(ps['beta'][:,chain_number,j,k],\n",
    "             true_value=data['beta'][j,k],\n",
    "             title = 'Posterior distribution for beta(%s,%s)'%(j,k)).\\\n",
    "                     options(fig_inches=8, aspect=3))\n",
    "layout = hv.Layout(plots).options(show_title = True,\n",
    "                                  vspace = .3,\n",
    "                                  absolute_scaling=False,\n",
    "                                  normalize=False) # use same y-range for all plots?\n",
    "\n",
    "layout.cols(2)\n"
   ]
  },
  {
   "cell_type": "code",
   "execution_count": 35,
   "metadata": {},
   "outputs": [],
   "source": [
    "import numpy as np\n",
    "import pandas as pd\n",
    "from scipy.stats import multivariate_normal, bernoulli, norm\n",
    "import datetime\n",
    "import sys\n",
    "import os\n",
    "import itertools\n",
    "\n",
    "from codebase.file_utils import save_obj, load_obj\n",
    "from scipy.special import expit\n",
    "from scipy.special import ndtri\n",
    "\n",
    "def to_str_pattern(y0):\n",
    "    if np.ndim(y0) == 1:\n",
    "        return ''.join(y0.astype(str))\n",
    "    if np.ndim(y0) == 2:\n",
    "        y = pd.DataFrame(y0)\n",
    "        yresp = y.apply(lambda x: ''.join(x.astype(str)), axis=1)\n",
    "        return yresp\n",
    "\n",
    "\n",
    "def to_nparray_data(yresp):\n",
    "    if type(yresp) == str:\n",
    "        return np.array(list(yresp)).astype(int)\n",
    "    else:\n",
    "        J = len(yresp[0])\n",
    "        N = yresp.shape[0]\n",
    "        res = np.empty((N,J))\n",
    "        for i in range(N):\n",
    "            res[i] = np.array(list(yresp[i])).astype(int)\n",
    "        return res\n",
    "\n",
    "\n",
    "def get_all_possible_patterns(n):\n",
    "    lst = list(map(list, itertools.product([0, 1], repeat=n)))\n",
    "    return to_str_pattern(lst)\n",
    "\n",
    "\n",
    "def get_probs2(data, ps, m):\n",
    "    cn = 3\n",
    "    pistr = expit(ps['yy'][m, cn])\n",
    "    return pistr\n",
    "\n",
    "\n",
    "def get_Ey(data_ptrn, prob, N):\n",
    "    distinct_patterns = np.unique(data_ptrn)\n",
    "    ## compute E_y(theta) for a specific pattern y\n",
    "    Ey = dict()\n",
    "    for ptrn in distinct_patterns:\n",
    "        prob_matrix = bernoulli.logpmf(k=to_nparray_data(ptrn), p = prob)\n",
    "        Ey[ptrn] = N * np.mean(np.exp(np.sum(prob_matrix,1)),0)\n",
    "    return Ey\n",
    "\n",
    "\n",
    "def get_Oy(data_ptrn):\n",
    "    distinct_patterns = np.unique(data_ptrn)\n",
    "    # compute observed pattern occurences\n",
    "    Oy = dict()\n",
    "    for ptrn in distinct_patterns:\n",
    "        Oy[ptrn] = np.count_nonzero(data_ptrn == ptrn)\n",
    "    return Oy\n",
    "\n",
    "\n",
    "def get_Dy(Oy, Ey, data_ptrn):\n",
    "    distinct_patterns = np.unique(data_ptrn)\n",
    "    # compute the discrepancy D\n",
    "    Dy = dict()\n",
    "    for ptrn in distinct_patterns:\n",
    "        Dy[ptrn] = Oy[ptrn] * np.log(Oy[ptrn]/Ey[ptrn])\n",
    "\n",
    "    return Dy\n",
    "\n",
    "\n",
    "def get_lgscr(data, ps, nsim = 100, L=100):\n",
    "\n",
    "    nsim_N = ps['alpha'].shape[0]\n",
    "    skip_step = int(nsim_N/nsim)\n",
    "    \n",
    "    data_ptrn = to_str_pattern(data['DD'])\n",
    "    Oy = get_Oy(data_ptrn)\n",
    "\n",
    "    lgscr_vals = np.empty(nsim)\n",
    "    for m_ind in tqdm(range(nsim)):\n",
    "        m = skip_step*m_ind\n",
    "        # compute Dy\n",
    "        pi = get_probs2(data, ps, m)\n",
    "        Ey = get_Ey(data_ptrn, pi, data['N'])\n",
    "        Dy = get_Dy(Oy, Ey, data_ptrn)\n",
    "\n",
    "        lgscr_vals[m_ind] = sum(Dy.values())\n",
    "\n",
    "    return lgscr_vals, Dy\n",
    "\n"
   ]
  },
  {
   "cell_type": "code",
   "execution_count": 36,
   "metadata": {},
   "outputs": [
    {
     "data": {
      "application/vnd.jupyter.widget-view+json": {
       "model_id": "d92eb2f207454da48ad032cbb6308b62",
       "version_major": 2,
       "version_minor": 0
      },
      "text/plain": [
       "HBox(children=(IntProgress(value=0), HTML(value='')))"
      ]
     },
     "metadata": {},
     "output_type": "display_data"
    },
    {
     "name": "stdout",
     "output_type": "stream",
     "text": [
      "\n"
     ]
    },
    {
     "data": {
      "application/vnd.jupyter.widget-view+json": {
       "model_id": "e4badd8ded694ae1a4b99e144a86194f",
       "version_major": 2,
       "version_minor": 0
      },
      "text/plain": [
       "HBox(children=(IntProgress(value=0), HTML(value='')))"
      ]
     },
     "metadata": {},
     "output_type": "display_data"
    },
    {
     "name": "stdout",
     "output_type": "stream",
     "text": [
      "\n"
     ]
    },
    {
     "data": {
      "application/vnd.jupyter.widget-view+json": {
       "model_id": "9808edf2ba9d4b189a22f71006bf8688",
       "version_major": 2,
       "version_minor": 0
      },
      "text/plain": [
       "HBox(children=(IntProgress(value=0), HTML(value='')))"
      ]
     },
     "metadata": {},
     "output_type": "display_data"
    },
    {
     "name": "stdout",
     "output_type": "stream",
     "text": [
      "\n"
     ]
    },
    {
     "data": {
      "text/plain": [
       "119.05657415753218"
      ]
     },
     "execution_count": 36,
     "metadata": {},
     "output_type": "execute_result"
    }
   ],
   "source": [
    "nsim = 100\n",
    "Ds = np.empty(3)\n",
    "for fold_index in range(3):\n",
    "    PPP_vals, Dy = get_lgscr(complete_data[fold_index]['test'], model_posterior_samples[fold_index], nsim)\n",
    "    Ds[fold_index] = np.mean(PPP_vals)\n",
    "\n",
    "np.sum(Ds)\n"
   ]
  },
  {
   "cell_type": "code",
   "execution_count": 99,
   "metadata": {},
   "outputs": [],
   "source": [
    "# sim 0\n",
    "#m1 = 119.05657\n",
    "#m2 = "
   ]
  },
  {
   "cell_type": "code",
   "execution_count": 100,
   "metadata": {},
   "outputs": [],
   "source": [
    "# sim1\n",
    "# #m1 = \n",
    "# #m2 = "
   ]
  },
  {
   "cell_type": "code",
   "execution_count": 101,
   "metadata": {},
   "outputs": [],
   "source": [
    "# sim2\n",
    "# #m1 = \n",
    "# #m2 = "
   ]
  }
 ],
 "metadata": {
  "kernelspec": {
   "display_name": "Python 3",
   "language": "python",
   "name": "python3"
  },
  "language_info": {
   "codemirror_mode": {
    "name": "ipython",
    "version": 3
   },
   "file_extension": ".py",
   "mimetype": "text/x-python",
   "name": "python",
   "nbconvert_exporter": "python",
   "pygments_lexer": "ipython3",
   "version": "3.6.4"
  }
 },
 "nbformat": 4,
 "nbformat_minor": 2
}
