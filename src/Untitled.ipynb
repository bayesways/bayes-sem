{
 "cells": [
  {
   "cell_type": "code",
   "execution_count": 30,
   "metadata": {},
   "outputs": [],
   "source": [
    "import pandas as pd\n",
    "import numpy as np\n",
    "from scipy.stats import norm, multivariate_normal, invwishart, invgamma\n",
    "from numpy.linalg import inv"
   ]
  },
  {
   "cell_type": "code",
   "execution_count": 31,
   "metadata": {
    "scrolled": true
   },
   "outputs": [],
   "source": [
    "nsim_data = 10\n",
    "J = 4\n",
    "K = 2\n",
    "zz = multivariate_normal.rvs(mean = np.zeros(K), size=nsim_data)\n",
    "ww = np.array([[1, 3], [-2, 2],[-1,-1],[2,1]])\n",
    "sigma = np.array([1,2,.3,.8])\n",
    "Sigma = np.diag(sigma)\n",
    "ee = multivariate_normal.rvs(mean = np.zeros(J), cov = Sigma, size=nsim_data)\n",
    "yy = zz@ww.T + ee"
   ]
  },
  {
   "cell_type": "code",
   "execution_count": 128,
   "metadata": {},
   "outputs": [],
   "source": [
    "data = dict()\n",
    "data['N'] = nsim_data\n",
    "data['K'] = K\n",
    "data['J'] = J\n",
    "data['sigma'] = sigma\n",
    "data['Sigma'] = Sigma\n",
    "data['y'] = yy\n",
    "data['z'] = zz\n",
    "data['w'] = ww\n",
    "data['e'] = ee"
   ]
  },
  {
   "cell_type": "code",
   "execution_count": 33,
   "metadata": {},
   "outputs": [
    {
     "name": "stdout",
     "output_type": "stream",
     "text": [
      "dim(w) =  (4, 2)\n",
      "dim(z) =  (10, 2)\n",
      "dim(y) =  (10, 4)\n",
      "dim(e) =  (10, 4)\n"
     ]
    }
   ],
   "source": [
    "print(\"dim(w) = \", ww.shape)\n",
    "print(\"dim(z) = \", zz.shape)\n",
    "print(\"dim(y) = \", yy.shape)\n",
    "print(\"dim(e) = \", ee.shape)\n"
   ]
  },
  {
   "cell_type": "code",
   "execution_count": 51,
   "metadata": {},
   "outputs": [],
   "source": [
    "# sample z\n",
    "z_s = np.empty_like(zz)\n",
    "for t in range(data['N']):\n",
    "    inv_Sigma = inv(Sigma)\n",
    "    cov1 = inv(np.eye(K) +  ww.T@inv_Sigma@ww)\n",
    "    mean = cov1 @ ww.T@inv_Sigma@yy[t]\n",
    "    z_s[t] = multivariate_normal.rvs(mean, cov1)\n"
   ]
  },
  {
   "cell_type": "code",
   "execution_count": 57,
   "metadata": {},
   "outputs": [
    {
     "data": {
      "text/plain": [
       "array([[ 1,  3],\n",
       "       [-2,  2],\n",
       "       [-1, -1],\n",
       "       [ 2,  1]])"
      ]
     },
     "execution_count": 57,
     "metadata": {},
     "output_type": "execute_result"
    }
   ],
   "source": [
    "ww"
   ]
  },
  {
   "cell_type": "code",
   "execution_count": 69,
   "metadata": {},
   "outputs": [
    {
     "data": {
      "text/plain": [
       "array([[1]])"
      ]
     },
     "execution_count": 69,
     "metadata": {},
     "output_type": "execute_result"
    }
   ],
   "source": [
    "i=0\n",
    "ww[i,:(i+1)].reshape(1,1)"
   ]
  },
  {
   "cell_type": "code",
   "execution_count": 121,
   "metadata": {},
   "outputs": [
    {
     "data": {
      "text/plain": [
       "array([-2.,  2.])"
      ]
     },
     "execution_count": 121,
     "metadata": {},
     "output_type": "execute_result"
    }
   ],
   "source": [
    "def create_w_columns(i,k,ww):\n",
    "    if i+1<=k:\n",
    "        a = np.zeros(k)\n",
    "        a[:(i+1)] = ww[i,:(i+1)]\n",
    "        return a.T\n",
    "    else:\n",
    "        return ww[i,:]\n",
    "        \n",
    "create_w_columns(1,2,ww)"
   ]
  },
  {
   "cell_type": "code",
   "execution_count": 122,
   "metadata": {},
   "outputs": [
    {
     "data": {
      "text/plain": [
       "(2,)"
      ]
     },
     "execution_count": 122,
     "metadata": {},
     "output_type": "execute_result"
    }
   ],
   "source": [
    "create_w_columns(i,k=2, ww=ww).T.shape"
   ]
  },
  {
   "cell_type": "code",
   "execution_count": 132,
   "metadata": {},
   "outputs": [],
   "source": [
    "sigma_s = np.empty_like(sigma)\n",
    "for i in range(data['J']):\n",
    "    a0 = 1\n",
    "    b0 = 1\n",
    "    a = (data['N'] + a0 )/2.\n",
    "    aux = yy[:,i] - zz@create_w_columns(i,k=2, ww=ww).T\n",
    "    d = aux.T @ aux\n",
    "    b = (a0*b0**2+d)/2.\n",
    "    sigma_s[i] = invgamma.rvs(a, scale = b0)"
   ]
  },
  {
   "cell_type": "code",
   "execution_count": 161,
   "metadata": {},
   "outputs": [
    {
     "data": {
      "text/plain": [
       "array([[ 50.01468412, -49.98531588],\n",
       "       [-49.98531588,  50.01468412]])"
      ]
     },
     "execution_count": 161,
     "metadata": {},
     "output_type": "execute_result"
    }
   ],
   "source": [
    "i = 0\n",
    "C0 = 1e2\n",
    "aux1= zz[:,:(i+1)].T@zz[:,:(i+1)]\n",
    "inv_C = C0**(-1)*np.eye(K) + sigma[i]**(-2)*aux1\n",
    "C = inv(inv_C)\n",
    "C"
   ]
  },
  {
   "cell_type": "code",
   "execution_count": 162,
   "metadata": {},
   "outputs": [
    {
     "data": {
      "text/plain": [
       "(1, 10)"
      ]
     },
     "execution_count": 162,
     "metadata": {},
     "output_type": "execute_result"
    }
   ],
   "source": [
    "zz[:,:(i+1)].T.shape"
   ]
  },
  {
   "cell_type": "code",
   "execution_count": 163,
   "metadata": {},
   "outputs": [
    {
     "data": {
      "text/plain": [
       "array([19.21833021])"
      ]
     },
     "execution_count": 163,
     "metadata": {},
     "output_type": "execute_result"
    }
   ],
   "source": [
    "aux2= zz[:,:(i+1)].T@yy[:,i]\n",
    "aux2\n",
    "# C@(C0**(-1)*np.ones(i+1) + "
   ]
  },
  {
   "cell_type": "code",
   "execution_count": null,
   "metadata": {},
   "outputs": [],
   "source": []
  },
  {
   "cell_type": "code",
   "execution_count": 164,
   "metadata": {},
   "outputs": [
    {
     "ename": "ValueError",
     "evalue": "shapes (2,2) and (1,) not aligned: 2 (dim 1) != 1 (dim 0)",
     "output_type": "error",
     "traceback": [
      "\u001b[0;31m---------------------------------------------------------------------------\u001b[0m",
      "\u001b[0;31mValueError\u001b[0m                                Traceback (most recent call last)",
      "\u001b[0;32m<ipython-input-164-d24adcf09fa3>\u001b[0m in \u001b[0;36m<module>\u001b[0;34m()\u001b[0m\n\u001b[0;32m----> 1\u001b[0;31m \u001b[0mC\u001b[0m\u001b[0;34m@\u001b[0m\u001b[0;34m(\u001b[0m\u001b[0mC0\u001b[0m\u001b[0;34m**\u001b[0m\u001b[0;34m(\u001b[0m\u001b[0;34m-\u001b[0m\u001b[0;36m1\u001b[0m\u001b[0;34m)\u001b[0m\u001b[0;34m*\u001b[0m\u001b[0mnp\u001b[0m\u001b[0;34m.\u001b[0m\u001b[0mones\u001b[0m\u001b[0;34m(\u001b[0m\u001b[0mi\u001b[0m\u001b[0;34m+\u001b[0m\u001b[0;36m1\u001b[0m\u001b[0;34m)\u001b[0m \u001b[0;34m+\u001b[0m\u001b[0msigma\u001b[0m\u001b[0;34m[\u001b[0m\u001b[0mi\u001b[0m\u001b[0;34m]\u001b[0m\u001b[0;34m**\u001b[0m\u001b[0;34m(\u001b[0m\u001b[0;34m-\u001b[0m\u001b[0;36m2\u001b[0m\u001b[0;34m)\u001b[0m\u001b[0;34m*\u001b[0m\u001b[0maux2\u001b[0m \u001b[0;34m)\u001b[0m\u001b[0;34m\u001b[0m\u001b[0m\n\u001b[0m",
      "\u001b[0;31mValueError\u001b[0m: shapes (2,2) and (1,) not aligned: 2 (dim 1) != 1 (dim 0)"
     ]
    }
   ],
   "source": [
    "C@(C0**(-1)*np.ones(i+1) +sigma[i]**(-2)*aux2 )"
   ]
  },
  {
   "cell_type": "code",
   "execution_count": null,
   "metadata": {},
   "outputs": [],
   "source": []
  }
 ],
 "metadata": {
  "kernelspec": {
   "display_name": "Python 3",
   "language": "python",
   "name": "python3"
  },
  "language_info": {
   "codemirror_mode": {
    "name": "ipython",
    "version": 3
   },
   "file_extension": ".py",
   "mimetype": "text/x-python",
   "name": "python",
   "nbconvert_exporter": "python",
   "pygments_lexer": "ipython3",
   "version": "3.6.4"
  }
 },
 "nbformat": 4,
 "nbformat_minor": 2
}
