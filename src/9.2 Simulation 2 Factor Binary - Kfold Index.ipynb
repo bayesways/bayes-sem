{
 "cells": [
  {
   "cell_type": "code",
   "execution_count": 178,
   "metadata": {},
   "outputs": [
    {
     "name": "stdout",
     "output_type": "stream",
     "text": [
      "The autoreload extension is already loaded. To reload it, use:\n",
      "  %reload_ext autoreload\n"
     ]
    }
   ],
   "source": [
    "import numpy as np\n",
    "import pandas as pd\n",
    "import pystan\n",
    "from scipy.stats import norm, multivariate_normal, invwishart, invgamma, bernoulli\n",
    "from statsmodels.tsa.stattools import acf\n",
    "import datetime\n",
    "import sys\n",
    "import os\n",
    "\n",
    "from tqdm.notebook import tqdm\n",
    "from codebase.plot import * \n",
    "from codebase.data import * \n",
    "from codebase.file_utils import save_obj, load_obj\n",
    "\n",
    "%matplotlib inline\n",
    "\n",
    "%load_ext autoreload\n",
    "%autoreload 2"
   ]
  },
  {
   "cell_type": "code",
   "execution_count": 179,
   "metadata": {},
   "outputs": [
    {
     "data": {
      "text/plain": [
       "array([[0.51181525, 0.60609747, 0.3464872 , 0.68040391, 0.54708026,\n",
       "        0.46778698],\n",
       "       [0.37411383, 0.65495432, 0.38959692, 0.60033664, 0.83315254,\n",
       "        0.74677492],\n",
       "       [0.54661188, 0.61347008, 0.63342206, 0.41746335, 0.33318507,\n",
       "        0.4092692 ],\n",
       "       ...,\n",
       "       [0.48669687, 0.43166055, 0.37717889, 0.60266249, 0.61694272,\n",
       "        0.81767478],\n",
       "       [0.53967258, 0.61744314, 0.5356735 , 0.35243497, 0.35253977,\n",
       "        0.56826925],\n",
       "       [0.56491028, 0.51093277, 0.6563597 , 0.40227643, 0.27230401,\n",
       "        0.2739961 ]])"
      ]
     },
     "execution_count": 179,
     "metadata": {},
     "output_type": "execute_result"
    }
   ],
   "source": [
    "get_avg_probs(complete_data[fold_index]['test'], model_posterior_samples[fold_index], 0, 0.4, 1)"
   ]
  },
  {
   "cell_type": "code",
   "execution_count": 180,
   "metadata": {},
   "outputs": [],
   "source": [
    "def get_prob_pred(data, ps, m, c=.4):\n",
    "    N = data['N']\n",
    "    pistr = np.empty((N, data['J']))\n",
    "    z_mc = multivariate_normal.rvs(np.zeros(data['K']),\n",
    "        ps['Phi_cov'][m], size = N)\n",
    "    ystr = ps['alpha'][m] + z_mc @ ps['beta'][m].T\n",
    "    if 'uu' in ps.keys():\n",
    "        if 'Omega_cov' in ps.keys():\n",
    "            u_mc = multivariate_normal.rvs(np.zeros(data['J']),\n",
    "                ps['Omega_cov'][m], size = N)\n",
    "        else:\n",
    "            u_mc = multivariate_normal.rvs(np.zeros(data['J']),\n",
    "                np.eye(data['J'])*c**2, size = N)\n",
    "        ystr = ystr + u_mc\n",
    "\n",
    "    # logit\n",
    "    pistr = expit(ystr)\n",
    "\n",
    "    # probit\n",
    "    # pistr = norm.cdf(ystr)\n",
    "\n",
    "    return pistr\n",
    "\n",
    "def get_avg_probs(data, ps, m, c, L = 10):\n",
    "    avg_prob = np.empty((L, data['N'], data['J']))\n",
    "    for l in range(L):\n",
    "        avg_prob[l] = get_prob_pred(data, ps, m, c)\n",
    "    return np.mean(avg_prob, 0)\n",
    "        \n",
    "#     lgscr = -data['DD']*np.log(piavg) - (1-data['DD'])*np.log(1-piavg)\n",
    "\n",
    "#     return np.sum(lgscr)\n",
    "\n",
    "\n",
    "\n",
    "\n",
    "\n",
    "def get_lgscr(data, ps, c, L):\n",
    "    nsim_N = ps['alpha'].shape[0]\n",
    "    lgscrs = np.empty(nsim_N)\n",
    "    for m_ind in tqdm(range(nsim_N)):\n",
    "        piavg = get_avg_probs(data, ps, m=m_ind, c=c, L = L )   \n",
    "        lgscr =-data['DD']*np.log(piavg) - (1-data['DD'])*np.log(1-piavg)\n",
    "        lgscrs[m_ind] = np.sum(lgscr)\n",
    "\n",
    "    return np.sum(lgscrs)/nsim_N    \n"
   ]
  },
  {
   "cell_type": "code",
   "execution_count": 181,
   "metadata": {
    "scrolled": true
   },
   "outputs": [],
   "source": [
    "num_chains = 1\n",
    "num_samples = 1000\n",
    "num_warmup = 1000\n",
    "num_iter = num_samples + num_warmup"
   ]
  },
  {
   "cell_type": "code",
   "execution_count": 182,
   "metadata": {},
   "outputs": [],
   "source": [
    "log_dir = \"./log/20200109_202506_bin2f_kfold_sim0_d3_m1//\"\n",
    "if log_dir[-1] != \"/\":\n",
    "    print(\"\\n\\nAppending `/`-character at the end of directory\")\n",
    "    log_dir = log_dir+ \"/\"\n"
   ]
  },
  {
   "cell_type": "code",
   "execution_count": 183,
   "metadata": {},
   "outputs": [
    {
     "name": "stdout",
     "output_type": "stream",
     "text": [
      "\n",
      "\n",
      "Checking data integrity...\n",
      "\n",
      "\n"
     ]
    }
   ],
   "source": [
    "print(\"\\n\\nChecking data integrity...\\n\\n\")\n",
    "complete_data = load_obj(\"complete_data\", log_dir)\n",
    "\n",
    "model_posterior_samples = dict()\n",
    "model_posterior_samples[0] = load_obj('ps_0', log_dir)\n",
    "model_posterior_samples[1] = load_obj('ps_1', log_dir)\n",
    "model_posterior_samples[2] = load_obj('ps_2', log_dir)\n"
   ]
  },
  {
   "cell_type": "code",
   "execution_count": 184,
   "metadata": {},
   "outputs": [
    {
     "data": {
      "text/plain": [
       "array([[1.  , 0.  ],\n",
       "       [0.7 , 0.  ],\n",
       "       [1.42, 0.  ],\n",
       "       [0.  , 1.  ],\n",
       "       [0.  , 1.66],\n",
       "       [0.  , 1.18]])"
      ]
     },
     "execution_count": 184,
     "metadata": {},
     "output_type": "execute_result"
    }
   ],
   "source": [
    "np.round(np.mean(model_posterior_samples[0]['beta'],0),2)"
   ]
  },
  {
   "cell_type": "code",
   "execution_count": 185,
   "metadata": {
    "scrolled": false
   },
   "outputs": [
    {
     "name": "stdout",
     "output_type": "stream",
     "text": [
      "data {\n",
      "  int<lower=1> N;\n",
      "  int<lower=1> K;\n",
      "  int<lower=1> J;\n",
      "  int<lower=0, upper=1> DD[N, J];\n",
      "}\n",
      "\n",
      "transformed data{\n",
      "  vector[K] zeros_K = rep_vector(0, K);\n",
      "  cov_matrix[K] I_K = diag_matrix(rep_vector(1, K));\n",
      "}\n",
      "\n",
      "parameters {\n",
      "  vector[J] alpha;\n",
      "  matrix[2,K] beta_free; // 2 free eleements per factor\n",
      "  cov_matrix [K] Phi_cov;\n",
      "  matrix[N,K] zz;\n",
      "}\n",
      "\n",
      "transformed parameters{\n",
      "  matrix[J,K] beta;\n",
      "  matrix[N,J] yy;\n",
      "\n",
      "  for(j in 1:J) {\n",
      "    for (k in 1:K) beta[j,k] = 0;\n",
      "  }\n",
      "  \n",
      "  // set ones\n",
      "  for (k in 1:K) beta[1+3*(k-1), k] = 1;\n",
      "  // set the free elements\n",
      "  for (k in 1:K) beta[2+3*(k-1) : 3+3*(k-1), k] = beta_free[1:2,k];\n",
      "\n",
      "  for (n in 1:N) yy[n,] = to_row_vector(alpha) + zz[n,] * beta';\n",
      "}\n",
      "  \n",
      "model {\n",
      "  to_vector(beta_free) ~ normal(0, 1);\n",
      "  to_vector(alpha) ~ normal(0, 10);\n",
      "  Phi_cov ~ inv_wishart(J+4, I_K);\n",
      "  for (n in 1:N) to_vector(zz[n,]) ~ multi_normal(zeros_K, Phi_cov);\n",
      "  for (j in 1:J) DD[, j] ~ bernoulli_logit(yy[, j]);\n",
      "  \n",
      "}\n",
      "\n"
     ]
    }
   ],
   "source": [
    "print(open(log_dir+'model.txt').read())"
   ]
  },
  {
   "cell_type": "code",
   "execution_count": 186,
   "metadata": {
    "scrolled": true
   },
   "outputs": [
    {
     "name": "stdout",
     "output_type": "stream",
     "text": [
      "\n",
      "\n",
      "Loading files...\n",
      "\n",
      "\n",
      "\n",
      "\n",
      "Checking data integrity...\n",
      "\n",
      "\n"
     ]
    },
    {
     "data": {
      "application/vnd.jupyter.widget-view+json": {
       "model_id": "22961f8707a04b97bdc56a08848a9886",
       "version_major": 2,
       "version_minor": 0
      },
      "text/plain": [
       "HBox(children=(IntProgress(value=0, max=1000), HTML(value='')))"
      ]
     },
     "metadata": {},
     "output_type": "display_data"
    },
    {
     "name": "stdout",
     "output_type": "stream",
     "text": [
      "\n"
     ]
    },
    {
     "data": {
      "application/vnd.jupyter.widget-view+json": {
       "model_id": "e953c0ffdb974aa5bc13ba46276af19d",
       "version_major": 2,
       "version_minor": 0
      },
      "text/plain": [
       "HBox(children=(IntProgress(value=0, max=1000), HTML(value='')))"
      ]
     },
     "metadata": {},
     "output_type": "display_data"
    },
    {
     "name": "stdout",
     "output_type": "stream",
     "text": [
      "\n"
     ]
    },
    {
     "data": {
      "application/vnd.jupyter.widget-view+json": {
       "model_id": "abd7154f564146e0af4d53e106fa416b",
       "version_major": 2,
       "version_minor": 0
      },
      "text/plain": [
       "HBox(children=(IntProgress(value=0, max=1000), HTML(value='')))"
      ]
     },
     "metadata": {},
     "output_type": "display_data"
    },
    {
     "name": "stdout",
     "output_type": "stream",
     "text": [
      "\n"
     ]
    },
    {
     "data": {
      "text/plain": [
       "array([1400.35504378, 1393.58106045, 1395.06555097])"
      ]
     },
     "execution_count": 186,
     "metadata": {},
     "output_type": "execute_result"
    }
   ],
   "source": [
    "\n",
    "print(\"\\n\\nLoading files...\\n\\n\")\n",
    "\n",
    "\n",
    "print(\"\\n\\nChecking data integrity...\\n\\n\")\n",
    "\n",
    "mcmc_length = model_posterior_samples[0]['alpha'].shape[0]\n",
    "\n",
    "Ds = np.empty(3)\n",
    "for fold_index in range(3):\n",
    "    Ds[fold_index] = get_lgscr(complete_data[fold_index]['test'], model_posterior_samples[fold_index], c=0.2, L=10)\n",
    "\n",
    "Ds"
   ]
  },
  {
   "cell_type": "code",
   "execution_count": 187,
   "metadata": {},
   "outputs": [
    {
     "data": {
      "text/plain": [
       "1396.33"
      ]
     },
     "execution_count": 187,
     "metadata": {},
     "output_type": "execute_result"
    }
   ],
   "source": [
    "np.round(np.mean(Ds),2)"
   ]
  },
  {
   "cell_type": "code",
   "execution_count": null,
   "metadata": {},
   "outputs": [],
   "source": []
  }
 ],
 "metadata": {
  "kernelspec": {
   "display_name": "Python 3",
   "language": "python",
   "name": "python3"
  },
  "language_info": {
   "codemirror_mode": {
    "name": "ipython",
    "version": 3
   },
   "file_extension": ".py",
   "mimetype": "text/x-python",
   "name": "python",
   "nbconvert_exporter": "python",
   "pygments_lexer": "ipython3",
   "version": "3.6.4"
  }
 },
 "nbformat": 4,
 "nbformat_minor": 2
}
