{
 "cells": [
  {
   "cell_type": "code",
   "execution_count": 77,
   "metadata": {},
   "outputs": [
    {
     "name": "stdout",
     "output_type": "stream",
     "text": [
      "The autoreload extension is already loaded. To reload it, use:\n",
      "  %reload_ext autoreload\n"
     ]
    }
   ],
   "source": [
    "import numpy as np\n",
    "import pandas as pd\n",
    "import pystan\n",
    "from scipy.stats import norm, multivariate_normal, invwishart, invgamma, bernoulli\n",
    "from statsmodels.tsa.stattools import acf\n",
    "import datetime\n",
    "import sys\n",
    "import os\n",
    "\n",
    "from tqdm.notebook import tqdm\n",
    "from codebase.plot import * \n",
    "from codebase.data import * \n",
    "from codebase.file_utils import save_obj, load_obj\n",
    "\n",
    "%matplotlib inline\n",
    "\n",
    "%load_ext autoreload\n",
    "%autoreload 2"
   ]
  },
  {
   "cell_type": "code",
   "execution_count": 78,
   "metadata": {},
   "outputs": [],
   "source": [
    "def get_avg_probs(data, ps, m, L=1, c=0.2):\n",
    "    ## compute the pi's for the the m-th posterior sample\n",
    "    N = data['N']\n",
    "    ystr = np.empty((L, N, data['J']))\n",
    "    for l in range(L):\n",
    "        z_mc = multivariate_normal.rvs(np.zeros(data['K']), ps['Phi_cov'][m], size = N)\n",
    "        if 'uu' in ps.keys():\n",
    "            u_mc = multivariate_normal.rvs(np.zeros(data['J']), np.eye(data['J'])*c**2, size = N)\n",
    "        ystr[l] = ps['alpha'][m] + z_mc @ ps['beta'][m].T\n",
    "        if 'uu' in ps.keys():\n",
    "            ystr[l] = ystr[l] + u_mc\n",
    "    # logit\n",
    "    pistr = expit(ystr)\n",
    "\n",
    "    # # probit\n",
    "    # # pistr = norm.cdf(ystr)\n",
    "\n",
    "    piavg = np.mean(pistr,0)\n",
    "    \n",
    "    lgscr = -data['DD']*np.log(piavg) - (1-data['DD'])*np.log(1-piavg)\n",
    "\n",
    "    return np.sum(lgscr)\n",
    "\n",
    "def get_lgscr(fold_index, ps, L):\n",
    "    nsim_N = ps[fold_index]['alpha'].shape[0]\n",
    "    lgscrs = np.empty(nsim_N)\n",
    "    for m_ind in tqdm(range(nsim_N)):\n",
    "        lgscrs[m_ind] = get_avg_probs(complete_data[fold_index]['test'], ps[fold_index], m=m_ind, L=L)\n",
    "\n",
    "    return np.sum(lgscrs)/nsim_N    \n"
   ]
  },
  {
   "cell_type": "code",
   "execution_count": 79,
   "metadata": {
    "scrolled": true
   },
   "outputs": [],
   "source": [
    "num_chains = 1\n",
    "num_samples = 1000\n",
    "num_warmup = 1000\n",
    "num_iter = num_samples + num_warmup"
   ]
  },
  {
   "cell_type": "code",
   "execution_count": 80,
   "metadata": {},
   "outputs": [],
   "source": [
    "log_dir = \"./log/bin_sim_2factor_logit_2/sim3/20200109_202544_bin2f_kfold_sim3_d3_m2//\"\n",
    "if log_dir[-1] != \"/\":\n",
    "    print(\"\\n\\nAppending `/`-character at the end of directory\")\n",
    "    log_dir = log_dir+ \"/\"\n"
   ]
  },
  {
   "cell_type": "code",
   "execution_count": 81,
   "metadata": {},
   "outputs": [
    {
     "name": "stdout",
     "output_type": "stream",
     "text": [
      "\n",
      "\n",
      "Checking data integrity...\n",
      "\n",
      "\n"
     ]
    }
   ],
   "source": [
    "print(\"\\n\\nChecking data integrity...\\n\\n\")\n",
    "complete_data = load_obj(\"complete_data\", log_dir)\n",
    "\n",
    "model_posterior_samples = dict()\n",
    "model_posterior_samples[0] = load_obj('ps_0', log_dir)\n",
    "model_posterior_samples[1] = load_obj('ps_1', log_dir)\n",
    "model_posterior_samples[2] = load_obj('ps_2', log_dir)\n"
   ]
  },
  {
   "cell_type": "code",
   "execution_count": 82,
   "metadata": {},
   "outputs": [
    {
     "data": {
      "text/plain": [
       "array([[ 1.  , -0.01],\n",
       "       [ 1.65,  0.07],\n",
       "       [ 1.06, -0.03],\n",
       "       [ 0.05,  1.  ],\n",
       "       [ 0.05,  1.33],\n",
       "       [-0.05,  1.77]])"
      ]
     },
     "execution_count": 82,
     "metadata": {},
     "output_type": "execute_result"
    }
   ],
   "source": [
    "np.round(np.mean(model_posterior_samples[2]['beta'],0),2)"
   ]
  },
  {
   "cell_type": "code",
   "execution_count": 83,
   "metadata": {
    "scrolled": false
   },
   "outputs": [
    {
     "name": "stdout",
     "output_type": "stream",
     "text": [
      "data {\n",
      "  int<lower=1> N;\n",
      "  int<lower=1> K;\n",
      "  int<lower=1> J;\n",
      "  int<lower=0, upper=1> DD[N, J];\n",
      "}\n",
      "\n",
      "transformed data{\n",
      "  vector[K] zeros_K = rep_vector(0, K);\n",
      "  vector[J] zeros_J = rep_vector(0, J);\n",
      "  cov_matrix[J] I_J = diag_matrix(rep_vector(1, J));\n",
      "  cov_matrix[K] I_K = diag_matrix(rep_vector(1, K));\n",
      "  real<lower=0> c = 0.2;\n",
      "}\n",
      "\n",
      "parameters {\n",
      "  vector[J] alpha;\n",
      "  matrix[2,K] beta_free; // 2 free eleements per factor\n",
      "  matrix[J-3,K] beta_zeros; // 3 zero elements per factor\n",
      "  cov_matrix [K] Phi_cov;\n",
      "  matrix[N,K] zz;\n",
      "  matrix[N,J] uu;\n",
      "}\n",
      "\n",
      "transformed parameters{\n",
      "  matrix[J,K] beta;\n",
      "  matrix[N,J] yy;\n",
      "\n",
      "  for(j in 1:J) {\n",
      "    for (k in 1:K) beta[j,k] = 0;\n",
      "  }\n",
      "  // set ones\n",
      "  for (k in 1:K) beta[1+3*(k-1), k] = 1;\n",
      "  // set the free elements\n",
      "  for (k in 1:K) beta[2+3*(k-1) : 3+3*(k-1), k] = beta_free[1:2,k];\n",
      "  // set the zero elements\n",
      "  beta[4:J, 1] = beta_zeros[1:(J-3), 1];\n",
      "  beta[1:(J-3), K] = beta_zeros[1:(J-3), K];\n",
      "\n",
      "  for (n in 1:N) yy[n,] = to_row_vector(alpha) + zz[n,] * beta' + uu[n,];\n",
      "}\n",
      "\n",
      "model {\n",
      "  to_vector(beta_free) ~ normal(0, 1);\n",
      "  to_vector(beta_zeros) ~ normal(0, 0.1);\n",
      "  to_vector(alpha) ~ normal(0, 10);\n",
      "  Phi_cov ~ inv_wishart(J+4, I_K);\n",
      "  for (n in 1:N) to_vector(zz[n,]) ~ multi_normal(zeros_K, Phi_cov);\n",
      "  to_vector(uu) ~ normal(0, c);\n",
      "  for (j in 1:J) DD[, j] ~ bernoulli_logit(yy[, j]);\n",
      "}\n",
      "\n"
     ]
    }
   ],
   "source": [
    "print(open(log_dir+'model.txt').read())"
   ]
  },
  {
   "cell_type": "code",
   "execution_count": 84,
   "metadata": {},
   "outputs": [
    {
     "name": "stdout",
     "output_type": "stream",
     "text": [
      "\n",
      "\n",
      "Loading files...\n",
      "\n",
      "\n",
      "\n",
      "\n",
      "Checking data integrity...\n",
      "\n",
      "\n"
     ]
    },
    {
     "data": {
      "application/vnd.jupyter.widget-view+json": {
       "model_id": "608d38f6215e4185a9f0d9575e314c56",
       "version_major": 2,
       "version_minor": 0
      },
      "text/plain": [
       "HBox(children=(IntProgress(value=0, max=1000), HTML(value='')))"
      ]
     },
     "metadata": {},
     "output_type": "display_data"
    },
    {
     "name": "stdout",
     "output_type": "stream",
     "text": [
      "\n"
     ]
    },
    {
     "data": {
      "application/vnd.jupyter.widget-view+json": {
       "model_id": "67d956fd07794506b60ffc410a9673ef",
       "version_major": 2,
       "version_minor": 0
      },
      "text/plain": [
       "HBox(children=(IntProgress(value=0, max=1000), HTML(value='')))"
      ]
     },
     "metadata": {},
     "output_type": "display_data"
    },
    {
     "name": "stdout",
     "output_type": "stream",
     "text": [
      "\n"
     ]
    },
    {
     "data": {
      "application/vnd.jupyter.widget-view+json": {
       "model_id": "a0cb84c8521b4840ac9058fc5e0d74f0",
       "version_major": 2,
       "version_minor": 0
      },
      "text/plain": [
       "HBox(children=(IntProgress(value=0, max=1000), HTML(value='')))"
      ]
     },
     "metadata": {},
     "output_type": "display_data"
    },
    {
     "name": "stdout",
     "output_type": "stream",
     "text": [
      "\n"
     ]
    },
    {
     "data": {
      "text/plain": [
       "array([1599.85866914, 1586.54713427, 1565.06535306])"
      ]
     },
     "execution_count": 84,
     "metadata": {},
     "output_type": "execute_result"
    }
   ],
   "source": [
    "\n",
    "print(\"\\n\\nLoading files...\\n\\n\")\n",
    "\n",
    "\n",
    "print(\"\\n\\nChecking data integrity...\\n\\n\")\n",
    "\n",
    "mcmc_length = model_posterior_samples[0]['alpha'].shape[0]\n",
    "\n",
    "Ds = np.empty(3)\n",
    "for fold_index in range(3):\n",
    "    Ds[fold_index] = get_lgscr(fold_index, model_posterior_samples, L=1)\n",
    "\n",
    "Ds"
   ]
  },
  {
   "cell_type": "code",
   "execution_count": 85,
   "metadata": {},
   "outputs": [
    {
     "data": {
      "text/plain": [
       "1584.0"
      ]
     },
     "execution_count": 85,
     "metadata": {},
     "output_type": "execute_result"
    }
   ],
   "source": [
    "np.round(np.mean(Ds))"
   ]
  },
  {
   "cell_type": "code",
   "execution_count": 86,
   "metadata": {},
   "outputs": [
    {
     "data": {
      "text/plain": [
       "{'random_seed': 0,\n",
       " 'N': 1000,\n",
       " 'K': 2,\n",
       " 'J': 6,\n",
       " 'alpha': array([0., 0., 0., 0., 0., 0.]),\n",
       " 'beta': array([[1. , 0. ],\n",
       "        [0.8, 0. ],\n",
       "        [0.8, 0. ],\n",
       "        [0. , 1. ],\n",
       "        [0. , 0.8],\n",
       "        [0. , 0.8]]),\n",
       " 'Theta': array([[1. , 0. , 0. , 0. , 0. , 0. ],\n",
       "        [0. , 1. , 0. , 0.2, 0.2, 0. ],\n",
       "        [0. , 0. , 1. , 0.2, 0.2, 0. ],\n",
       "        [0. , 0.2, 0.2, 1. , 0. , 0.2],\n",
       "        [0. , 0.2, 0.2, 0. , 1. , 0.2],\n",
       "        [0. , 0. , 0. , 0.2, 0.2, 1. ]]),\n",
       " 'e': array([[ 0.07362804, -0.35804922,  3.8493088 ,  3.11745151,  1.05760669,\n",
       "         -0.21831235],\n",
       "        [ 1.14804991,  1.40820474, -0.1814078 ,  2.07484067,  0.6911965 ,\n",
       "         -0.73138306],\n",
       "        [ 0.43977892, -1.1254447 , -1.00673112, -0.54772119, -1.22090514,\n",
       "          1.17261783],\n",
       "        ...,\n",
       "        [-0.48930738, -0.17425751,  3.22360071, -0.95691075,  2.63698591,\n",
       "          1.55915334],\n",
       "        [-0.05675429, -1.03914382, -1.14293677,  1.83042718, -2.23481193,\n",
       "          1.00737145],\n",
       "        [-1.36420608, -0.90049349,  0.28458887, -0.75497043, -0.95691082,\n",
       "         -1.30406901]]),\n",
       " 'sigma_z': array([0.80622577, 0.80622577]),\n",
       " 'Phi_corr': array([[1. , 0.2],\n",
       "        [0.2, 1. ]]),\n",
       " 'Phi_cov': array([[0.65, 0.13],\n",
       "        [0.13, 0.65]]),\n",
       " 'y': array([[-1.23206324, -1.40260225,  2.80475578,  2.21984211,  0.33951917,\n",
       "         -0.93639987],\n",
       "        [-0.60580758,  0.00511874, -1.5844938 ,  2.60625481,  1.11632782,\n",
       "         -0.30625175],\n",
       "        [-0.22819477, -1.65982365, -1.54111007, -2.21232668, -2.55258954,\n",
       "         -0.15906656],\n",
       "        ...,\n",
       "        [-0.66269435, -0.31296709,  3.08489113, -1.03061108,  2.57802564,\n",
       "          1.50019308],\n",
       "        [-1.01279111, -1.80397328, -1.90776622,  1.03596181, -2.87038423,\n",
       "          0.37179916],\n",
       "        [ 0.01737748,  0.20477336,  1.38985572, -0.71031957, -0.92119013,\n",
       "         -1.26834833]]),\n",
       " 'D': array([[0, 0, 1, 1, 1, 0],\n",
       "        [0, 1, 0, 1, 1, 0],\n",
       "        [0, 0, 0, 0, 0, 0],\n",
       "        ...,\n",
       "        [0, 0, 1, 0, 1, 1],\n",
       "        [0, 0, 0, 1, 0, 1],\n",
       "        [1, 1, 1, 0, 0, 0]]),\n",
       " 'off_diag_residual': True,\n",
       " 'cross_loadings': False,\n",
       " 'method': 3,\n",
       " 'model_type': 'logit'}"
      ]
     },
     "execution_count": 86,
     "metadata": {},
     "output_type": "execute_result"
    }
   ],
   "source": [
    "load_obj(\"data\", log_dir)\n"
   ]
  }
 ],
 "metadata": {
  "kernelspec": {
   "display_name": "Python 3",
   "language": "python",
   "name": "python3"
  },
  "language_info": {
   "codemirror_mode": {
    "name": "ipython",
    "version": 3
   },
   "file_extension": ".py",
   "mimetype": "text/x-python",
   "name": "python",
   "nbconvert_exporter": "python",
   "pygments_lexer": "ipython3",
   "version": "3.6.4"
  }
 },
 "nbformat": 4,
 "nbformat_minor": 2
}
