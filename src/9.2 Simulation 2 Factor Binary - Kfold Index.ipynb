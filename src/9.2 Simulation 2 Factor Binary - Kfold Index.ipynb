{
 "cells": [
  {
   "cell_type": "code",
   "execution_count": 184,
   "metadata": {},
   "outputs": [
    {
     "name": "stdout",
     "output_type": "stream",
     "text": [
      "The autoreload extension is already loaded. To reload it, use:\n",
      "  %reload_ext autoreload\n"
     ]
    }
   ],
   "source": [
    "import numpy as np\n",
    "import pandas as pd\n",
    "import pystan\n",
    "from scipy.stats import norm, multivariate_normal, invwishart, invgamma, bernoulli\n",
    "from statsmodels.tsa.stattools import acf\n",
    "import datetime\n",
    "import sys\n",
    "import os\n",
    "\n",
    "from tqdm.notebook import tqdm\n",
    "from codebase.plot import * \n",
    "from codebase.data import * \n",
    "from codebase.file_utils import save_obj, load_obj\n",
    "\n",
    "%matplotlib inline\n",
    "\n",
    "%load_ext autoreload\n",
    "%autoreload 2"
   ]
  },
  {
   "cell_type": "code",
   "execution_count": 185,
   "metadata": {},
   "outputs": [],
   "source": [
    "log_dir = \"./log/binary_data_simulation/kfold1/20200224_144552_kfoldfexp_again_sim1_m2//\"\n",
    "if log_dir[-1] != \"/\":\n",
    "    print(\"\\n\\nAppending `/`-character at the end of directory\")\n",
    "    log_dir = log_dir+ \"/\"\n",
    "data = load_obj(\"data\", log_dir)"
   ]
  },
  {
   "cell_type": "code",
   "execution_count": 186,
   "metadata": {},
   "outputs": [
    {
     "name": "stdout",
     "output_type": "stream",
     "text": [
      "\n",
      "\n",
      "Checking data integrity...\n",
      "\n",
      "\n"
     ]
    }
   ],
   "source": [
    "print(\"\\n\\nChecking data integrity...\\n\\n\")\n",
    "complete_data = load_obj(\"complete_data\", log_dir)\n",
    "\n",
    "model_posterior_samples = dict()\n",
    "model_posterior_samples[0] = load_obj('ps_0', log_dir)\n",
    "model_posterior_samples[1] = load_obj('ps_1', log_dir)\n",
    "model_posterior_samples[2] = load_obj('ps_2', log_dir)\n"
   ]
  },
  {
   "cell_type": "code",
   "execution_count": 187,
   "metadata": {},
   "outputs": [
    {
     "data": {
      "text/plain": [
       "{'random_seed': 0,\n",
       " 'N': 1000,\n",
       " 'K': 2,\n",
       " 'J': 6,\n",
       " 'alpha': array([0., 0., 0., 0., 0., 0.]),\n",
       " 'beta': array([[1. , 0. ],\n",
       "        [0.8, 0. ],\n",
       "        [0.8, 0. ],\n",
       "        [0. , 1. ],\n",
       "        [0. , 0.8],\n",
       "        [0. , 0.8]]),\n",
       " 'sigma_z': array([1., 1.]),\n",
       " 'Phi_corr': array([[1. , 0.2],\n",
       "        [0.2, 1. ]]),\n",
       " 'Phi_cov': array([[1. , 0.2],\n",
       "        [0.2, 1. ]]),\n",
       " 'z': array([[-1.61951071, -1.11334743],\n",
       "        [-2.17539248,  0.65913812],\n",
       "        [-0.8285194 , -2.064689  ],\n",
       "        ...,\n",
       "        [-0.21506008, -0.091414  ],\n",
       "        [-1.18581773, -0.98541301],\n",
       "        [ 1.7136435 ,  0.05538257]]),\n",
       " 'y': array([[-4.71120685, -0.30514589,  0.10180765,  2.30242585, -0.03971164,\n",
       "          0.03342802],\n",
       "        [-2.95078751, -0.91775037, -2.69966356,  1.06164041,  2.70867847,\n",
       "          1.67174146],\n",
       "        [ 0.29454048, -0.14724192, -1.68185281, -2.17771467, -3.31034468,\n",
       "         -2.40248024],\n",
       "        ...,\n",
       "        [ 0.10786283, -0.88279962,  3.37834395,  2.26769607, -0.33595897,\n",
       "          1.72253444],\n",
       "        [-1.18848201,  1.37316633, -2.45233924, -0.6970732 , -1.55683718,\n",
       "         -2.69742218],\n",
       "        [ 0.66780711,  0.33095608,  1.8184127 , -0.86876603, -0.85154315,\n",
       "         -1.49338005]]),\n",
       " 'D': array([[0, 0, 1, 1, 0, 1],\n",
       "        [0, 0, 0, 1, 1, 1],\n",
       "        [1, 0, 0, 0, 0, 0],\n",
       "        ...,\n",
       "        [1, 0, 1, 1, 0, 1],\n",
       "        [0, 1, 0, 0, 0, 0],\n",
       "        [1, 1, 1, 0, 0, 0]]),\n",
       " 'off_diag_residual': True,\n",
       " 'cross_loadings': False,\n",
       " 'method': 3,\n",
       " 'model_type': 'logit',\n",
       " 'Theta': array([[1. , 0. , 0. , 0. , 0. , 0. ],\n",
       "        [0. , 1. , 0. , 0.3, 0.3, 0. ],\n",
       "        [0. , 0. , 1. , 0.3, 0.3, 0. ],\n",
       "        [0. , 0.3, 0.3, 1. , 0. , 0.3],\n",
       "        [0. , 0.3, 0.3, 0. , 1. , 0.3],\n",
       "        [0. , 0. , 0. , 0.3, 0.3, 1. ]]),\n",
       " 'Theta_corr': array([[1. , 0. , 0. , 0. , 0. , 0. ],\n",
       "        [0. , 1. , 0. , 0.3, 0.3, 0. ],\n",
       "        [0. , 0. , 1. , 0.3, 0.3, 0. ],\n",
       "        [0. , 0.3, 0.3, 1. , 0. , 0.3],\n",
       "        [0. , 0.3, 0.3, 0. , 1. , 0.3],\n",
       "        [0. , 0. , 0. , 0.3, 0.3, 1. ]]),\n",
       " 'sigma_theta': array([1., 1., 1., 1., 1., 1.]),\n",
       " 'e': array([[-3.09169614e+00,  9.90462681e-01,  1.39741621e+00,\n",
       "          3.41577329e+00,  8.50966302e-01,  9.24105964e-01],\n",
       "        [-7.75395024e-01,  8.22563620e-01, -9.59349576e-01,\n",
       "          4.02502296e-01,  2.18136798e+00,  1.14443096e+00],\n",
       "        [ 1.12305988e+00,  5.15573596e-01, -1.01903729e+00,\n",
       "         -1.13025671e-01, -1.65859348e+00, -7.50729041e-01],\n",
       "        ...,\n",
       "        [ 3.22922903e-01, -7.10751558e-01,  3.55039201e+00,\n",
       "          2.35911007e+00, -2.62827767e-01,  1.79566564e+00],\n",
       "        [-2.66427788e-03,  2.32182052e+00, -1.50368506e+00,\n",
       "          2.88339805e-01, -7.68506771e-01, -1.90909178e+00],\n",
       "        [-1.04583639e+00, -1.03995872e+00,  4.47497897e-01,\n",
       "         -9.24148600e-01, -8.95849208e-01, -1.53768611e+00]]),\n",
       " 'c': 1}"
      ]
     },
     "execution_count": 187,
     "metadata": {},
     "output_type": "execute_result"
    }
   ],
   "source": [
    "data"
   ]
  },
  {
   "cell_type": "code",
   "execution_count": 188,
   "metadata": {},
   "outputs": [
    {
     "data": {
      "text/plain": [
       "dict_keys(['alpha', 'yy', 'beta', 'Marg_cov', 'Omega_cov', 'Phi_cov'])"
      ]
     },
     "execution_count": 188,
     "metadata": {},
     "output_type": "execute_result"
    }
   ],
   "source": [
    "model_posterior_samples[0].keys()"
   ]
  },
  {
   "cell_type": "code",
   "execution_count": 189,
   "metadata": {
    "scrolled": true
   },
   "outputs": [],
   "source": [
    "num_chains = 1\n",
    "num_samples = model_posterior_samples[0]['alpha'].shape[0]\n",
    "num_warmup = model_posterior_samples[0]['alpha'].shape[0]\n",
    "num_iter = num_samples + num_warmup"
   ]
  },
  {
   "cell_type": "code",
   "execution_count": 190,
   "metadata": {},
   "outputs": [],
   "source": [
    "for j in range(3):\n",
    "    ps = model_posterior_samples[j]    \n",
    "    for i in range(num_samples):\n",
    "        sign1 = np.sign(ps['beta'][i,0,0])\n",
    "        sign2 = np.sign(ps['beta'][i,3,1])\n",
    "        ps['beta'][i,:3,0] = ps['beta'][i,:3,0] * sign1\n",
    "        ps['beta'][i,3:,1] = ps['beta'][i,3:,1] * sign2\n",
    "\n",
    "        ps['Phi_cov'][i,0,1] = sign1 * sign2 * ps['Phi_cov'][i,0,1]\n",
    "        ps['Phi_cov'][i,1,0] = ps['Phi_cov'][i,0,1]\n",
    "    model_posterior_samples[j] = ps"
   ]
  },
  {
   "cell_type": "code",
   "execution_count": 191,
   "metadata": {},
   "outputs": [
    {
     "data": {
      "text/plain": [
       "array([[ 0.79, -0.  ],\n",
       "       [ 0.82,  0.01],\n",
       "       [ 1.34, -0.  ],\n",
       "       [ 0.  ,  1.29],\n",
       "       [ 0.02,  1.28],\n",
       "       [-0.01,  2.02]])"
      ]
     },
     "execution_count": 191,
     "metadata": {},
     "output_type": "execute_result"
    }
   ],
   "source": [
    "np.round(np.mean(model_posterior_samples[0]['beta'],0),2)"
   ]
  },
  {
   "cell_type": "code",
   "execution_count": 192,
   "metadata": {
    "scrolled": false
   },
   "outputs": [
    {
     "name": "stdout",
     "output_type": "stream",
     "text": [
      "data {\n",
      "  int<lower=1> N;\n",
      "  int<lower=1> K;\n",
      "  int<lower=1> J;\n",
      "  int<lower=0, upper=1> DD[N, J];\n",
      "}\n",
      "\n",
      "transformed data{\n",
      "  cov_matrix[J] I_J = diag_matrix(rep_vector(1, J));\n",
      "}\n",
      "\n",
      "parameters {\n",
      "  vector[J] alpha;\n",
      "  matrix[3,K] beta_free; // 3 free eleements per factor\n",
      "  matrix[J-3,K] beta_zeros; // 3 zero elements per factor\n",
      "  matrix[N,J] yy;\n",
      "  cov_matrix[J] Omega_cov;\n",
      "  cholesky_factor_corr[K] L_Phi;\n",
      "\n",
      "}\n",
      "\n",
      "transformed parameters{\n",
      "  matrix[J,K] beta;\n",
      "  cov_matrix[J] Marg_cov;\n",
      "  corr_matrix[K] Phi_cov;\n",
      "  for(j in 1:J) {\n",
      "    for (k in 1:K) beta[j,k] = 0;\n",
      "  }\n",
      "  // set the free elements\n",
      "  for (k in 1:K) beta[1+3*(k-1) : 3+3*(k-1), k] = beta_free[1:3,k];\n",
      "  // set the zero elements\n",
      "  beta[4:J, 1] = beta_zeros[1:(J-3), 1];\n",
      "  beta[1:(J-3), K] = beta_zeros[1:(J-3), K];\n",
      "  \n",
      "  Phi_cov = multiply_lower_tri_self_transpose(L_Phi);\n",
      "  Marg_cov = beta * Phi_cov * beta'+ Omega_cov;\n",
      "}\n",
      "\n",
      "model {\n",
      "  to_vector(beta_free) ~ normal(0, 1);\n",
      "  to_vector(beta_zeros) ~ normal(0, 0.1);\n",
      "  to_vector(alpha) ~ normal(0, 10);\n",
      "  L_Phi ~ lkj_corr_cholesky(2);\n",
      "  Omega_cov ~ inv_wishart(J+6, I_J);\n",
      "  for (n in 1:N) yy[n,] ~ multi_normal(alpha, Marg_cov);\n",
      "  for (j in 1:J) DD[, j] ~ bernoulli_logit(yy[, j]);\n",
      "}\n",
      "\n",
      "generated quantities{\n",
      "  matrix[J,J] betabeta =  beta * beta';\n",
      "}\n",
      "\n",
      "\n"
     ]
    }
   ],
   "source": [
    "print(open(log_dir+'model.txt').read())"
   ]
  },
  {
   "cell_type": "code",
   "execution_count": 193,
   "metadata": {},
   "outputs": [],
   "source": [
    "# %%opts Layout [fig_size=200]\n",
    "# fold_index = 0\n",
    "# test = 'test'\n",
    "# plots = []\n",
    "# for j in range(data['J']):\n",
    "#     for k in range(data['K']):\n",
    "#         plots.append(plot_trace(model_posterior_samples[fold_index]['beta'][:,j,k],\n",
    "#                                 true_value=data['beta'][j,k],\n",
    "#                                 title = 'Posterior distribution for beta(%s,%s)'%(j,k)).\\\n",
    "#                      options(fig_inches=8, aspect=3))\n",
    "# layout = hv.Layout(plots).options(show_title = True,\n",
    "#                                   vspace = .3,\n",
    "#                                   absolute_scaling=False,\n",
    "#                                   normalize=False) # use same y-range for all plots?\n",
    "\n",
    "# layout.cols(2)\n"
   ]
  },
  {
   "cell_type": "code",
   "execution_count": 194,
   "metadata": {},
   "outputs": [],
   "source": [
    "# def get_prob_pred(data, ps, m):\n",
    "#     N = data['N']\n",
    "#     pistr = np.empty((N, data['J']))\n",
    "    \n",
    "#     if 'zz' in ps.keys():\n",
    "#         z_mc = multivariate_normal.rvs(np.zeros(data['K']),\n",
    "#             ps['Phi_cov'][m], size = N)\n",
    "#         ystr = ps['alpha'][m] + z_mc @ ps['beta'][m].T\n",
    "#     elif 'Marg_cov' in ps.keys():\n",
    "#         ystr = multivariate_normal.rvs(ps['alpha'][m],\n",
    "#             ps['Marg_cov'][m], size = N)\n",
    "\n",
    "#     # logit\n",
    "#     pistr = expit(ystr)\n",
    "\n",
    "#     # probit\n",
    "#     # pistr = norm.cdf(ystr)\n",
    "#     return pistr\n",
    "\n",
    "\n",
    "def get_prob_pred(data, ps, m):\n",
    "    L = 100\n",
    "    if 'zz' in ps.keys():\n",
    "        assert check_posdef(ps['Phi_cov'][m])==0\n",
    "        z_mc = multivariate_normal.rvs(np.zeros(data['K']),\n",
    "            ps['Phi_cov'][m], size = L)\n",
    "        ystr = np.empty((L, data['J']))\n",
    "        for l in range(L):\n",
    "            ystr[l] = ps['alpha'][m] + z_mc[l] @ ps['beta'][m].T\n",
    "    elif 'Marg_cov' in ps.keys():\n",
    "        assert check_posdef(ps['Marg_cov'][m])==0\n",
    "        ystr = multivariate_normal.rvs(ps['alpha'][m],\n",
    "            ps['Marg_cov'][m], size = L)\n",
    "\n",
    "    # logit\n",
    "    pistr = expit(ystr)\n",
    "\n",
    "    # probit\n",
    "    # pistr = norm.cdf(ystr)\n",
    "    return pistr\n",
    "\n",
    "\n",
    "\n",
    "\n",
    "# def get_prob_pred(data, ps, m):\n",
    "#     N = data['N']\n",
    "#     if 'zz' in ps.keys():\n",
    "#         ystr = ps['alpha'][m] + ps['zz'][m] @ ps['beta'][m].T\n",
    "#     elif 'Marg_cov' in ps.keys():\n",
    "#         ystr = ps['yy'][m]\n",
    "\n",
    "#     # logit\n",
    "#     pistr = expit(ystr)\n",
    "\n",
    "#     # probit\n",
    "#     # pistr = norm.cdf(ystr)\n",
    "#     return pistr\n",
    "        \n",
    "  \n",
    "def get_avg_probs(data, ps, m):\n",
    "    avg_prob = get_prob_pred(data, ps, m)\n",
    "    return np.mean(avg_prob, 0)\n",
    "        \n",
    "#     lgscr = -data['DD']*np.log(piavg) - (1-data['DD'])*np.log(1-piavg)\n",
    "\n",
    "#     return np.sum(lgscr)\n",
    "\n",
    "        \n",
    "# def get_avg_probs(data, ps, m, L = 10):\n",
    "#     avg_prob = np.empty((L, data['N'], data['J']))\n",
    "#     for l in range(L):\n",
    "#         avg_prob[l] = get_prob_pred(data, ps, m)\n",
    "#     return np.mean(avg_prob, 0)\n",
    "        \n",
    "# #     lgscr = -data['DD']*np.log(piavg) - (1-data['DD'])*np.log(1-piavg)\n",
    "\n",
    "# #     return np.sum(lgscr)\n",
    "\n",
    "\n",
    "\n",
    "def get_lgscr(data, ps):\n",
    "    nsim_N = ps['alpha'].shape[0]\n",
    "    lgscrs = np.empty(nsim_N)\n",
    "    for m_ind in tqdm(range(nsim_N)):\n",
    "        piavg = get_avg_probs(data, ps, m=m_ind )   \n",
    "        lgscr =-data['DD']*np.log(piavg) - (1-data['DD'])*np.log(1-piavg)\n",
    "        lgscrs[m_ind] = np.sum(lgscr)\n",
    "\n",
    "    return np.sum(lgscrs)/nsim_N    \n"
   ]
  },
  {
   "cell_type": "code",
   "execution_count": 195,
   "metadata": {
    "scrolled": true
   },
   "outputs": [
    {
     "name": "stdout",
     "output_type": "stream",
     "text": [
      "\n",
      "\n",
      "Loading files...\n",
      "\n",
      "\n",
      "\n",
      "\n",
      "Checking data integrity...\n",
      "\n",
      "\n"
     ]
    },
    {
     "data": {
      "application/vnd.jupyter.widget-view+json": {
       "model_id": "a9ea1fa81a1a4d62b5c14a4471023475",
       "version_major": 2,
       "version_minor": 0
      },
      "text/plain": [
       "HBox(children=(IntProgress(value=0, max=1000), HTML(value='')))"
      ]
     },
     "metadata": {},
     "output_type": "display_data"
    },
    {
     "name": "stdout",
     "output_type": "stream",
     "text": [
      "\n"
     ]
    },
    {
     "data": {
      "application/vnd.jupyter.widget-view+json": {
       "model_id": "f98f33675b11461bbd812270b283b680",
       "version_major": 2,
       "version_minor": 0
      },
      "text/plain": [
       "HBox(children=(IntProgress(value=0, max=1000), HTML(value='')))"
      ]
     },
     "metadata": {},
     "output_type": "display_data"
    },
    {
     "name": "stdout",
     "output_type": "stream",
     "text": [
      "\n"
     ]
    },
    {
     "data": {
      "application/vnd.jupyter.widget-view+json": {
       "model_id": "16a1c005f18f4d1fb7990c6fd82e49f3",
       "version_major": 2,
       "version_minor": 0
      },
      "text/plain": [
       "HBox(children=(IntProgress(value=0, max=1000), HTML(value='')))"
      ]
     },
     "metadata": {},
     "output_type": "display_data"
    },
    {
     "name": "stdout",
     "output_type": "stream",
     "text": [
      "\n"
     ]
    },
    {
     "data": {
      "text/plain": [
       "array([1393.42471213, 1391.14359152, 1389.95566611])"
      ]
     },
     "execution_count": 195,
     "metadata": {},
     "output_type": "execute_result"
    }
   ],
   "source": [
    "\n",
    "print(\"\\n\\nLoading files...\\n\\n\")\n",
    "\n",
    "\n",
    "print(\"\\n\\nChecking data integrity...\\n\\n\")\n",
    "\n",
    "mcmc_length = model_posterior_samples[0]['alpha'].shape[0]\n",
    "\n",
    "Ds = np.empty(3)\n",
    "for fold_index in range(3):\n",
    "    Ds[fold_index] = get_lgscr(complete_data[fold_index]['test'], model_posterior_samples[fold_index])\n",
    "\n",
    "Ds"
   ]
  },
  {
   "cell_type": "code",
   "execution_count": 196,
   "metadata": {},
   "outputs": [
    {
     "data": {
      "text/plain": [
       "1391.51"
      ]
     },
     "execution_count": 196,
     "metadata": {},
     "output_type": "execute_result"
    }
   ],
   "source": [
    "np.round(np.mean(Ds),2)"
   ]
  },
  {
   "cell_type": "code",
   "execution_count": 197,
   "metadata": {},
   "outputs": [
    {
     "data": {
      "text/plain": [
       "1391.51"
      ]
     },
     "execution_count": 197,
     "metadata": {},
     "output_type": "execute_result"
    }
   ],
   "source": [
    "#m1\n",
    "np.round(np.mean(Ds),2)"
   ]
  },
  {
   "cell_type": "code",
   "execution_count": null,
   "metadata": {},
   "outputs": [],
   "source": []
  }
 ],
 "metadata": {
  "kernelspec": {
   "display_name": "Python 3",
   "language": "python",
   "name": "python3"
  },
  "language_info": {
   "codemirror_mode": {
    "name": "ipython",
    "version": 3
   },
   "file_extension": ".py",
   "mimetype": "text/x-python",
   "name": "python",
   "nbconvert_exporter": "python",
   "pygments_lexer": "ipython3",
   "version": "3.6.4"
  }
 },
 "nbformat": 4,
 "nbformat_minor": 2
}
