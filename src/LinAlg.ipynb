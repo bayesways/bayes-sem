{
 "cells": [
  {
   "cell_type": "code",
   "execution_count": 5,
   "metadata": {},
   "outputs": [
    {
     "name": "stdout",
     "output_type": "stream",
     "text": [
      "The autoreload extension is already loaded. To reload it, use:\n",
      "  %reload_ext autoreload\n"
     ]
    }
   ],
   "source": [
    "import pandas as pd\n",
    "import numpy as np\n",
    "from numpy.linalg import eig, eigh, eigvalsh, norm\n",
    "from scipy.stats import multivariate_normal, invwishart, invgamma\n",
    "\n",
    "%matplotlib inline\n",
    "\n",
    "%load_ext autoreload\n",
    "%autoreload 2"
   ]
  },
  {
   "cell_type": "code",
   "execution_count": 6,
   "metadata": {},
   "outputs": [],
   "source": [
    "np.random.seed(324)\n",
    "J = 6\n",
    "K = 2\n",
    "beta = np.array([[1,0], [-2, 1],[-1,-1],[2,-1], [3,-1], [1,-1]], dtype=float)\n"
   ]
  },
  {
   "cell_type": "markdown",
   "metadata": {},
   "source": [
    "Construct the matrix $M = \\beta \\beta^T$ which is real and symmetric. \n",
    "Let $dim(M)= (n \\times n)$ and rank$(M)=k$ with $k<m$.  \n",
    " \n",
    "Here are some facts about real symmetric matrices\n",
    "\n",
    "* all eigenavalues are real\n",
    "* eigenvectors belonging to distinct eigenvalues are orthogonal\n",
    "* rank( $\\beta$ ) = rank( $\\beta \\beta^T$ ) = rank( M ) = $k$\n",
    "* $M$ has exactly $k$ non-zero eigenvalues\n",
    "* if $(\\lambda_1\\dots \\lambda_n)$ are the eigenvalues (not necessarily distinct), there exist $n$ orthonormal eigenvectors $v_1 \\dots v_n$ that correspond respectively to $(\\lambda_1 \\dots \\lambda_n)$\n",
    "\n",
    "\n",
    "* are all eigenvalues positive?"
   ]
  },
  {
   "cell_type": "code",
   "execution_count": 7,
   "metadata": {},
   "outputs": [
    {
     "data": {
      "text/plain": [
       "array([[ 1., -2., -1.,  2.,  3.,  1.],\n",
       "       [-2.,  5.,  1., -5., -7., -3.],\n",
       "       [-1.,  1.,  2., -1., -2.,  0.],\n",
       "       [ 2., -5., -1.,  5.,  7.,  3.],\n",
       "       [ 3., -7., -2.,  7., 10.,  4.],\n",
       "       [ 1., -3.,  0.,  3.,  4.,  2.]])"
      ]
     },
     "execution_count": 7,
     "metadata": {},
     "output_type": "execute_result"
    }
   ],
   "source": [
    "M = beta@beta.T; M"
   ]
  },
  {
   "cell_type": "code",
   "execution_count": 8,
   "metadata": {},
   "outputs": [
    {
     "data": {
      "text/plain": [
       "array([-4.03328716e-15, -7.37570285e-16,  1.35256974e-17,  1.11441244e-15,\n",
       "        2.24085774e+00,  2.27591423e+01])"
      ]
     },
     "execution_count": 8,
     "metadata": {},
     "output_type": "execute_result"
    }
   ],
   "source": [
    "eset = eigh(M)\n",
    "L = eset[0] ; L"
   ]
  },
  {
   "cell_type": "code",
   "execution_count": 9,
   "metadata": {},
   "outputs": [
    {
     "data": {
      "text/plain": [
       "array([[-0.94476253, -0.08456539, -0.04426746, -0.01654158,  0.24496801,\n",
       "        -0.19501253],\n",
       "       [-0.12531505,  0.5261797 ,  0.08574234,  0.68175156,  0.1315528 ,\n",
       "         0.46689183],\n",
       "       [-0.26514477,  0.31263616, -0.18638773, -0.180307  , -0.86645684,\n",
       "         0.11814577],\n",
       "       [-0.00339831,  0.30257632,  0.82041522,  0.00779524, -0.1315528 ,\n",
       "        -0.46689183],\n",
       "       [ 0.14627813,  0.46672055, -0.53159045,  0.16494195,  0.11341521,\n",
       "        -0.66190436],\n",
       "       [-0.0030501 , -0.55575332, -0.0166947 ,  0.68932138, -0.37652082,\n",
       "        -0.27187929]])"
      ]
     },
     "execution_count": 9,
     "metadata": {},
     "output_type": "execute_result"
    }
   ],
   "source": [
    "P = eset[1] ; P"
   ]
  },
  {
   "cell_type": "code",
   "execution_count": 10,
   "metadata": {},
   "outputs": [
    {
     "name": "stdout",
     "output_type": "stream",
     "text": [
      "True\n",
      "True\n",
      "True\n",
      "True\n",
      "True\n",
      "True\n"
     ]
    }
   ],
   "source": [
    "# eigenequation is satisfied\n",
    "for i in range(6):\n",
    "    l = L[i]\n",
    "    v = P[:,i]\n",
    "    c = M@v - l*v\n",
    "    print(np.allclose(c, np.zeros(6)))\n"
   ]
  },
  {
   "cell_type": "code",
   "execution_count": 11,
   "metadata": {},
   "outputs": [
    {
     "data": {
      "text/plain": [
       "array([1., 1., 1., 1., 1., 1.])"
      ]
     },
     "execution_count": 11,
     "metadata": {},
     "output_type": "execute_result"
    }
   ],
   "source": [
    "# all eigenvectors have norm 1\n",
    "norm(P, axis=1)"
   ]
  },
  {
   "cell_type": "code",
   "execution_count": 12,
   "metadata": {},
   "outputs": [
    {
     "data": {
      "text/plain": [
       "True"
      ]
     },
     "execution_count": 12,
     "metadata": {},
     "output_type": "execute_result"
    }
   ],
   "source": [
    "# matrix P of eigenvectors satisfies PP' = I , i.e. P' = P^-1\n",
    "np.allclose(P@P.T, np.eye(6))"
   ]
  },
  {
   "cell_type": "code",
   "execution_count": 13,
   "metadata": {},
   "outputs": [
    {
     "data": {
      "text/plain": [
       "True"
      ]
     },
     "execution_count": 13,
     "metadata": {},
     "output_type": "execute_result"
    }
   ],
   "source": [
    "# Check that M = P L P' = P L P^-1\n",
    "np.allclose(P @ np.diag(L) @ P.T, M)\n"
   ]
  },
  {
   "cell_type": "code",
   "execution_count": 14,
   "metadata": {},
   "outputs": [
    {
     "data": {
      "text/plain": [
       "True"
      ]
     },
     "execution_count": 14,
     "metadata": {},
     "output_type": "execute_result"
    }
   ],
   "source": [
    "# Check that L = P' M P = P^-1 M P\n",
    "np.allclose(P.T @ M @ P, np.diag(L) )"
   ]
  },
  {
   "cell_type": "markdown",
   "metadata": {},
   "source": [
    "We know that $M$ should have 3 zero eigenvalues. We set all the small values of `L` to zero and see if we recover the same results"
   ]
  },
  {
   "cell_type": "code",
   "execution_count": 15,
   "metadata": {},
   "outputs": [
    {
     "data": {
      "text/plain": [
       "array([ 0.        ,  0.        ,  0.        ,  0.        ,  2.24085774,\n",
       "       22.75914226])"
      ]
     },
     "execution_count": 15,
     "metadata": {},
     "output_type": "execute_result"
    }
   ],
   "source": [
    "Lt = L.copy() \n",
    "Lt[:4] = 0; Lt\n"
   ]
  },
  {
   "cell_type": "code",
   "execution_count": 16,
   "metadata": {},
   "outputs": [
    {
     "name": "stdout",
     "output_type": "stream",
     "text": [
      "True\n",
      "True\n",
      "True\n",
      "True\n",
      "True\n",
      "True\n"
     ]
    }
   ],
   "source": [
    "# eigenequation is satisfied\n",
    "for i in range(6):\n",
    "    l = Lt[i]\n",
    "    v = P[:,i]\n",
    "    c = M@v - l*v\n",
    "    print(np.allclose(c, np.zeros(6)))\n"
   ]
  },
  {
   "cell_type": "code",
   "execution_count": 17,
   "metadata": {},
   "outputs": [
    {
     "data": {
      "text/plain": [
       "True"
      ]
     },
     "execution_count": 17,
     "metadata": {},
     "output_type": "execute_result"
    }
   ],
   "source": [
    "# Check that M = P Lt P' = P Lt P^-1\n",
    "np.allclose(P @ np.diag(Lt) @ P.T, M)\n"
   ]
  },
  {
   "cell_type": "code",
   "execution_count": 18,
   "metadata": {},
   "outputs": [
    {
     "data": {
      "text/plain": [
       "True"
      ]
     },
     "execution_count": 18,
     "metadata": {},
     "output_type": "execute_result"
    }
   ],
   "source": [
    "# Check that Lt = P' M P = P^-1 M P\n",
    "np.allclose(P.T @ M @ P, np.diag(Lt) )"
   ]
  },
  {
   "cell_type": "code",
   "execution_count": 19,
   "metadata": {},
   "outputs": [],
   "source": [
    "# find max evals and their positions\n",
    "import operator\n",
    "\n",
    "def get_topn(L, topn):\n",
    "    \"\"\"\n",
    "    Return the top n values a list L, along with their indices\n",
    "    \"\"\"\n",
    "    index = np.empty(topn, dtype=int) \n",
    "    max_evals = np.empty(topn)\n",
    "    L_c = L.copy()\n",
    "    for i in range(topn):\n",
    "        # find highest element of L_c, with its index\n",
    "        ind, value = max(enumerate(L_c), key=operator.itemgetter(1)) \n",
    "        index[i] = ind\n",
    "        max_evals[i] = value\n",
    "        # delete element to repeat process\n",
    "        L_c = np.delete(L_c,ind)\n",
    "    return index, max_evals\n",
    "\n",
    "index, max_evals = get_topn(L, 2)"
   ]
  },
  {
   "cell_type": "code",
   "execution_count": 20,
   "metadata": {},
   "outputs": [
    {
     "data": {
      "text/plain": [
       "array([22.75914226,  2.24085774])"
      ]
     },
     "execution_count": 20,
     "metadata": {},
     "output_type": "execute_result"
    }
   ],
   "source": [
    "L[index]"
   ]
  },
  {
   "cell_type": "code",
   "execution_count": 21,
   "metadata": {},
   "outputs": [
    {
     "data": {
      "text/plain": [
       "array([[-0.19501253,  0.24496801],\n",
       "       [ 0.46689183,  0.1315528 ],\n",
       "       [ 0.11814577, -0.86645684],\n",
       "       [-0.46689183, -0.1315528 ],\n",
       "       [-0.66190436,  0.11341521],\n",
       "       [-0.27187929, -0.37652082]])"
      ]
     },
     "execution_count": 21,
     "metadata": {},
     "output_type": "execute_result"
    }
   ],
   "source": [
    "P[:, index]"
   ]
  },
  {
   "cell_type": "code",
   "execution_count": 22,
   "metadata": {},
   "outputs": [
    {
     "data": {
      "text/plain": [
       "-9.71445146547012e-17"
      ]
     },
     "execution_count": 22,
     "metadata": {},
     "output_type": "execute_result"
    }
   ],
   "source": [
    "# check that eigenvectors are orthogonal\n",
    "v = P[:, index[0]]\n",
    "u = P[:, index[1]]\n",
    "np.dot(u,v)"
   ]
  },
  {
   "cell_type": "code",
   "execution_count": 23,
   "metadata": {},
   "outputs": [
    {
     "ename": "NameError",
     "evalue": "name 'P_t' is not defined",
     "output_type": "error",
     "traceback": [
      "\u001b[0;31m---------------------------------------------------------------------------\u001b[0m",
      "\u001b[0;31mNameError\u001b[0m                                 Traceback (most recent call last)",
      "\u001b[0;32m<ipython-input-23-9b0b4052cf3a>\u001b[0m in \u001b[0;36m<module>\u001b[0;34m()\u001b[0m\n\u001b[1;32m      1\u001b[0m \u001b[0;31m# Check that M = P L P' = P L P^-1\u001b[0m\u001b[0;34m\u001b[0m\u001b[0;34m\u001b[0m\u001b[0m\n\u001b[0;32m----> 2\u001b[0;31m \u001b[0mA\u001b[0m \u001b[0;34m=\u001b[0m \u001b[0mP_t\u001b[0m\u001b[0;34m.\u001b[0m\u001b[0mT\u001b[0m \u001b[0;34m@\u001b[0m \u001b[0mM\u001b[0m \u001b[0;34m@\u001b[0m \u001b[0mP_t\u001b[0m\u001b[0;34m\u001b[0m\u001b[0m\n\u001b[0m\u001b[1;32m      3\u001b[0m \u001b[0mAt\u001b[0m \u001b[0;34m=\u001b[0m \u001b[0mA\u001b[0m\u001b[0;34m[\u001b[0m\u001b[0;34m:\u001b[0m\u001b[0;36m2\u001b[0m\u001b[0;34m,\u001b[0m\u001b[0;34m:\u001b[0m\u001b[0;36m2\u001b[0m\u001b[0;34m]\u001b[0m\u001b[0;34m\u001b[0m\u001b[0m\n\u001b[1;32m      4\u001b[0m \u001b[0mnp\u001b[0m\u001b[0;34m.\u001b[0m\u001b[0mallclose\u001b[0m\u001b[0;34m(\u001b[0m\u001b[0mAt\u001b[0m\u001b[0;34m,\u001b[0m \u001b[0mnp\u001b[0m\u001b[0;34m.\u001b[0m\u001b[0mdiag\u001b[0m\u001b[0;34m(\u001b[0m\u001b[0mLt\u001b[0m\u001b[0;34m[\u001b[0m\u001b[0mindex\u001b[0m\u001b[0;34m]\u001b[0m\u001b[0;34m)\u001b[0m \u001b[0;34m)\u001b[0m\u001b[0;34m\u001b[0m\u001b[0m\n",
      "\u001b[0;31mNameError\u001b[0m: name 'P_t' is not defined"
     ]
    }
   ],
   "source": [
    "# Check that M = P L P' = P L P^-1\n",
    "A = P_t.T @ M @ P_t\n",
    "At = A[:2,:2]\n",
    "np.allclose(At, np.diag(Lt[index]) )"
   ]
  },
  {
   "cell_type": "code",
   "execution_count": null,
   "metadata": {},
   "outputs": [],
   "source": [
    "Lt"
   ]
  },
  {
   "cell_type": "code",
   "execution_count": null,
   "metadata": {},
   "outputs": [],
   "source": [
    "# However just the first 2 columns of P do not preserve the properties of P\n",
    "P_t = np.zeros((6,6))\n",
    "P_t[:,:2] = P[:, index]\n",
    "\n",
    "np.allclose(P_t @ np.diag(Lt) @ P_t.T, M, )\n"
   ]
  },
  {
   "cell_type": "code",
   "execution_count": null,
   "metadata": {},
   "outputs": [],
   "source": [
    "# not even orthogonal matrix\n",
    "np.allclose(P_t @ P_t.T, np.eye(6))"
   ]
  },
  {
   "cell_type": "code",
   "execution_count": 50,
   "metadata": {},
   "outputs": [],
   "source": [
    "def get_topn_eig(M, topn):\n",
    "    eset = eigh(M)\n",
    "    L = eset[0]\n",
    "    P = eset[1]\n",
    "    index, max_evals = get_topn(L, 2)\n",
    "    \n",
    "    out = dict()\n",
    "    out['index'] = index\n",
    "    out['P'] = P[:, index]\n",
    "    out['L'] = L[index]\n",
    "    \n",
    "    return out\n",
    "\n",
    "ps = get_topn_eig(M, 2)\n",
    "    \n"
   ]
  },
  {
   "cell_type": "code",
   "execution_count": 51,
   "metadata": {},
   "outputs": [],
   "source": [
    "Pt = ps['P']"
   ]
  },
  {
   "cell_type": "code",
   "execution_count": 52,
   "metadata": {},
   "outputs": [],
   "source": [
    "Lt = ps['L']"
   ]
  },
  {
   "cell_type": "code",
   "execution_count": 53,
   "metadata": {},
   "outputs": [],
   "source": [
    "for i in range(2):\n",
    "    if Pt[0,i]<0:\n",
    "        Pt[:,i] = -Pt[:,i]\n"
   ]
  },
  {
   "cell_type": "code",
   "execution_count": 54,
   "metadata": {},
   "outputs": [
    {
     "data": {
      "text/plain": [
       "True"
      ]
     },
     "execution_count": 54,
     "metadata": {},
     "output_type": "execute_result"
    }
   ],
   "source": [
    "np.allclose( Pt @ np.diag(Lt) @ Pt.T, M)\n"
   ]
  },
  {
   "cell_type": "code",
   "execution_count": null,
   "metadata": {},
   "outputs": [],
   "source": []
  }
 ],
 "metadata": {
  "kernelspec": {
   "display_name": "Python 3",
   "language": "python",
   "name": "python3"
  },
  "language_info": {
   "codemirror_mode": {
    "name": "ipython",
    "version": 3
   },
   "file_extension": ".py",
   "mimetype": "text/x-python",
   "name": "python",
   "nbconvert_exporter": "python",
   "pygments_lexer": "ipython3",
   "version": "3.7.6"
  }
 },
 "nbformat": 4,
 "nbformat_minor": 2
}
