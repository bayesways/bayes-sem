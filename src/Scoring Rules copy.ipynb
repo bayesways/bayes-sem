{
 "cells": [
  {
   "cell_type": "code",
   "execution_count": 1,
   "metadata": {},
   "outputs": [],
   "source": [
    "import numpy as np\n",
    "import pandas as pd\n",
    "import sys\n",
    "import os\n",
    "from codebase.file_utils import save_obj, load_obj\n",
    "from codebase.model_fit_cont import energy_score\n",
    "import altair as alt\n",
    "alt.data_transformers.disable_max_rows()\n",
    "\n",
    "%load_ext autoreload\n",
    "%autoreload 2"
   ]
  },
  {
   "cell_type": "markdown",
   "metadata": {},
   "source": [
    "## Continous data"
   ]
  },
  {
   "cell_type": "code",
   "execution_count": 2,
   "metadata": {},
   "outputs": [],
   "source": [
    "def variogram_score(y_pred, y_obs, p = 0.5):\n",
    "    mcmc_lenght = y_pred.shape[0]\n",
    "    y_obs_length = y_obs.shape[0]\n",
    "    p = 0.5\n",
    "\n",
    "    s = 0.\n",
    "    for i in range(y_obs_length):\n",
    "        for j in range(y_obs_length):\n",
    "            s1 = np.abs(y_obs[i] - y_obs[j])**p\n",
    "            s2 = (-1./mcmc_lenght) * np.array([np.abs(X[k,i] - X[k,j])**p for k in range(mcmc_lenght)]).sum()\n",
    "            s_ij = (s1 + s2)**2\n",
    "            s = s + s_ij\n",
    "    return s\n"
   ]
  },
  {
   "cell_type": "code",
   "execution_count": 3,
   "metadata": {},
   "outputs": [
    {
     "name": "stdout",
     "output_type": "stream",
     "text": [
      "[0 1 2 3]\n",
      "[[ 1  2  3  4]\n",
      " [ 5  6  7  8]\n",
      " [ 9 10 11 12]]\n",
      "6.444444444444445\n",
      "0.0\n"
     ]
    }
   ],
   "source": [
    "y_obs = np.arange(4); print(y_obs)\n",
    "X = np.arange(1,13).reshape((3,4)); print(X)\n",
    "print(energy_score(X, y_obs))\n",
    "print(variogram_score(X, y_obs))\n"
   ]
  },
  {
   "cell_type": "code",
   "execution_count": 4,
   "metadata": {},
   "outputs": [
    {
     "name": "stdout",
     "output_type": "stream",
     "text": [
      "[1 1 2]\n",
      "[[ 1  2  3]\n",
      " [ 4  5  6]\n",
      " [ 7  8  9]\n",
      " [10 11 12]\n",
      " [13 14 15]\n",
      " [16 17 18]\n",
      " [19 20 21]\n",
      " [22 23 24]\n",
      " [25 26 27]\n",
      " [28 29 30]]\n",
      "16.005927778284295\n",
      "2.3431457505076203\n"
     ]
    }
   ],
   "source": [
    "y_obs = np.array([1,1,2]); print(y_obs)\n",
    "X = np.arange(1,31).reshape((10,3)); print(X)\n",
    "print(energy_score(X, y_obs))\n",
    "print(variogram_score(X, y_obs))\n"
   ]
  },
  {
   "cell_type": "markdown",
   "metadata": {},
   "source": [
    "## Binary Data"
   ]
  },
  {
   "cell_type": "code",
   "execution_count": 19,
   "metadata": {},
   "outputs": [],
   "source": [
    "from numpy.linalg import norm\n",
    "\n",
    "def crps_score(y_pred, y_obs):\n",
    "    # y_obs has dim J (1 observation)\n",
    "    # y_pred has dim m x J (m posterior samnples)\n",
    "    m = y_pred.shape[0]\n",
    "    # sum |Xi - y| for all i\n",
    "    s1 = np.abs(y_pred - y_obs).sum()\n",
    "    # sum all pairs |Xi - Xj|| for all i and all j\n",
    "    s2 = 0.\n",
    "    for i  in range(m):\n",
    "        for j in range(m):\n",
    "            s2 += np.abs(y_pred[i] - y_pred[j])\n",
    "    s2\n",
    "    \n",
    "    # remove the 1/2 from the second sum because we summed each distinct pair only once\n",
    "    return (s1/m) - (s2/(m**2))"
   ]
  },
  {
   "cell_type": "code",
   "execution_count": 20,
   "metadata": {},
   "outputs": [
    {
     "name": "stdout",
     "output_type": "stream",
     "text": [
      "[1 0 0]\n",
      "[0.6 0.5 0.4]\n"
     ]
    },
    {
     "data": {
      "text/plain": [
       "0.3444444444444445"
      ]
     },
     "execution_count": 20,
     "metadata": {},
     "output_type": "execute_result"
    }
   ],
   "source": [
    "y_obs = np.array([1,0,0]); print(y_obs)\n",
    "X = np.array([0.6, 0.5 ,0.4]); print(X)\n",
    "crps_score(X, y_obs)"
   ]
  },
  {
   "cell_type": "code",
   "execution_count": 21,
   "metadata": {},
   "outputs": [
    {
     "name": "stdout",
     "output_type": "stream",
     "text": [
      "[0 0 1]\n",
      "[0.99 0.99 0.01]\n"
     ]
    },
    {
     "data": {
      "text/plain": [
       "0.5544444444444443"
      ]
     },
     "execution_count": 21,
     "metadata": {},
     "output_type": "execute_result"
    }
   ],
   "source": [
    "y_obs = np.array([0,0,1]); print(y_obs)\n",
    "X = np.array([0.99, 0.99, 0.01]); print(X)\n",
    "crps_score(X, y_obs)"
   ]
  },
  {
   "cell_type": "code",
   "execution_count": 9,
   "metadata": {},
   "outputs": [
    {
     "data": {
      "text/plain": [
       "0.7999999999999998"
      ]
     },
     "execution_count": 9,
     "metadata": {},
     "output_type": "execute_result"
    }
   ],
   "source": [
    "from scipy.spatial.distance import pdist\n",
    "ss = 0\n",
    "for i  in range(3):\n",
    "    for j in range(3):\n",
    "        ss += np.abs(X[i] - X[j])\n",
    "ss"
   ]
  },
  {
   "cell_type": "code",
   "execution_count": null,
   "metadata": {},
   "outputs": [],
   "source": []
  }
 ],
 "metadata": {
  "kernelspec": {
   "display_name": "Python 3",
   "language": "python",
   "name": "python3"
  },
  "language_info": {
   "codemirror_mode": {
    "name": "ipython",
    "version": 3
   },
   "file_extension": ".py",
   "mimetype": "text/x-python",
   "name": "python",
   "nbconvert_exporter": "python",
   "pygments_lexer": "ipython3",
   "version": "3.7.4"
  }
 },
 "nbformat": 4,
 "nbformat_minor": 2
}
