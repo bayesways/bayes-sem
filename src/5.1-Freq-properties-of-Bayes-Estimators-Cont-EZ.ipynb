{
 "cells": [
  {
   "cell_type": "code",
   "execution_count": 1,
   "metadata": {},
   "outputs": [],
   "source": [
    "import numpy as np\n",
    "import pandas as pd\n",
    "import sys\n",
    "import os\n",
    "from codebase.file_utils import save_obj, load_obj\n",
    "from codebase.post_process import samples_to_df, get_post_df, remove_cn_dimension\n",
    "import altair as alt\n",
    "alt.data_transformers.disable_max_rows()\n",
    "\n",
    "%load_ext autoreload\n",
    "%autoreload 2"
   ]
  },
  {
   "cell_type": "code",
   "execution_count": 19,
   "metadata": {},
   "outputs": [
    {
     "data": {
      "text/plain": [
       "{'random_seed': 3,\n",
       " 'N': 2000,\n",
       " 'K': 2,\n",
       " 'J': 6,\n",
       " 'alpha': array([0., 0., 0., 0., 0., 0.]),\n",
       " 'beta': array([[1. , 0. ],\n",
       "        [0.8, 0. ],\n",
       "        [0.8, 0. ],\n",
       "        [0. , 1. ],\n",
       "        [0. , 0.8],\n",
       "        [0. , 0.8]]),\n",
       " 'sigma_z': array([1., 1.]),\n",
       " 'Phi_corr': array([[1., 0.],\n",
       "        [0., 1.]]),\n",
       " 'Phi_cov': array([[1., 0.],\n",
       "        [0., 1.]]),\n",
       " 'z': array([[ 1.78862847,  0.43650985],\n",
       "        [ 0.09649747, -1.8634927 ],\n",
       "        [-0.2773882 , -0.35475898],\n",
       "        ...,\n",
       "        [-0.13790705,  1.10679585],\n",
       "        [-0.15818468, -0.41708256],\n",
       "        [ 0.53466852, -0.94417554]]),\n",
       " 'y': array([[ 1.78862847,  1.43090278,  1.43090278,  0.43650985,  0.34920788,\n",
       "          0.34920788],\n",
       "        [ 0.09649747,  0.07719797,  0.07719797, -1.8634927 , -1.49079416,\n",
       "         -1.49079416],\n",
       "        [-0.2773882 , -0.22191056, -0.22191056, -0.35475898, -0.28380718,\n",
       "         -0.28380718],\n",
       "        ...,\n",
       "        [-0.13790705, -0.11032564, -0.11032564,  1.10679585,  0.88543668,\n",
       "          0.88543668],\n",
       "        [-0.15818468, -0.12654774, -0.12654774, -0.41708256, -0.33366605,\n",
       "         -0.33366605],\n",
       "        [ 0.53466852,  0.42773482,  0.42773482, -0.94417554, -0.75534043,\n",
       "         -0.75534043]]),\n",
       " 'D': array([[1, 0, 1, 0, 1, 0],\n",
       "        [1, 0, 1, 0, 0, 0],\n",
       "        [0, 1, 0, 1, 1, 0],\n",
       "        ...,\n",
       "        [0, 1, 0, 1, 1, 1],\n",
       "        [0, 1, 1, 1, 0, 0],\n",
       "        [1, 1, 1, 1, 0, 0]]),\n",
       " 'off_diag_residual': False,\n",
       " 'cross_loadings': False,\n",
       " 'method': 1,\n",
       " 'model_type': 'logit',\n",
       " 'Theta': array([[1., 0., 0., 0., 0., 0.],\n",
       "        [0., 1., 0., 0., 0., 0.],\n",
       "        [0., 0., 1., 0., 0., 0.],\n",
       "        [0., 0., 0., 1., 0., 0.],\n",
       "        [0., 0., 0., 0., 1., 0.],\n",
       "        [0., 0., 0., 0., 0., 1.]]),\n",
       " 'Theta_corr': array([[1., 0., 0., 0., 0., 0.],\n",
       "        [0., 1., 0., 0., 0., 0.],\n",
       "        [0., 0., 1., 0., 0., 0.],\n",
       "        [0., 0., 0., 1., 0., 0.],\n",
       "        [0., 0., 0., 0., 1., 0.],\n",
       "        [0., 0., 0., 0., 0., 1.]]),\n",
       " 'sigma_theta': array([1., 1., 1., 1., 1., 1.]),\n",
       " 'c': 1}"
      ]
     },
     "execution_count": 19,
     "metadata": {},
     "output_type": "execute_result"
    }
   ],
   "source": [
    "log_dir = \"./log/20211013_195812___s0m2_seed3//\"\n",
    "data = load_obj('data', log_dir)\n",
    "data"
   ]
  },
  {
   "cell_type": "code",
   "execution_count": 2,
   "metadata": {},
   "outputs": [],
   "source": [
    "log_dir = \"./log/fabian-freq-estimators/cont/m1/\"\n",
    "data = load_obj('data0', log_dir)\n"
   ]
  },
  {
   "cell_type": "code",
   "execution_count": 3,
   "metadata": {
    "scrolled": true
   },
   "outputs": [
    {
     "data": {
      "text/plain": [
       "{'random_seed': 0,\n",
       " 'N': 1000,\n",
       " 'K': 2,\n",
       " 'J': 6,\n",
       " 'alpha': array([0., 0., 0., 0., 0., 0.]),\n",
       " 'beta': array([[1. , 0. ],\n",
       "        [0.8, 0. ],\n",
       "        [0.8, 0. ],\n",
       "        [0. , 1. ],\n",
       "        [0. , 0.8],\n",
       "        [0. , 0.8]]),\n",
       " 'sigma_z': array([1., 1.]),\n",
       " 'Phi_corr': array([[1., 0.],\n",
       "        [0., 1.]]),\n",
       " 'Phi_cov': array([[1., 0.],\n",
       "        [0., 1.]]),\n",
       " 'Marg_cov': array([[2.  , 0.8 , 0.8 , 0.  , 0.  , 0.  ],\n",
       "        [0.8 , 1.64, 0.64, 0.  , 0.  , 0.  ],\n",
       "        [0.8 , 0.64, 1.64, 0.  , 0.  , 0.  ],\n",
       "        [0.  , 0.  , 0.  , 2.  , 0.8 , 0.8 ],\n",
       "        [0.  , 0.  , 0.  , 0.8 , 1.64, 0.64],\n",
       "        [0.  , 0.  , 0.  , 0.8 , 0.64, 1.64]]),\n",
       " 'Theta': array([[1., 0., 0., 0., 0., 0.],\n",
       "        [0., 1., 0., 0., 0., 0.],\n",
       "        [0., 0., 1., 0., 0., 0.],\n",
       "        [0., 0., 0., 1., 0., 0.],\n",
       "        [0., 0., 0., 0., 1., 0.],\n",
       "        [0., 0., 0., 0., 0., 1.]]),\n",
       " 'sigma': array([1., 1., 1., 1., 1., 1.]),\n",
       " 'y': array([[-0.7165283 , -4.1517797 , -0.98267814, -1.21219826, -0.61838363,\n",
       "          0.7657609 ],\n",
       "        [-1.03162303, -1.26943185, -0.68875788,  1.27118166, -0.46280712,\n",
       "         -0.60878062],\n",
       "        [ 0.2066665 , -1.6658501 , -1.19396334, -0.2996575 , -0.33453562,\n",
       "          0.29318178],\n",
       "        ...,\n",
       "        [ 2.36852938,  2.01614441,  1.33141012,  3.68287465,  2.00003023,\n",
       "          2.28035799],\n",
       "        [-0.62292233, -1.92621945, -1.94207867, -1.45789048, -0.76091067,\n",
       "          0.20386778],\n",
       "        [ 0.78412312,  0.58755675, -0.17312716,  1.81086538,  0.89344963,\n",
       "          1.39209938]]),\n",
       " 'off_diag_residual': False,\n",
       " 'cross_loadings': False,\n",
       " 'sigma_prior': array([0.73824911, 0.83072099, 0.83168456, 0.74142411, 0.80247692,\n",
       "        0.81515579])}"
      ]
     },
     "execution_count": 3,
     "metadata": {},
     "output_type": "execute_result"
    }
   ],
   "source": [
    "data"
   ]
  },
  {
   "cell_type": "code",
   "execution_count": 4,
   "metadata": {
    "scrolled": false
   },
   "outputs": [],
   "source": [
    "def clean_samples(ps0):\n",
    "    ps = ps0.copy()\n",
    "    num_chains = ps['alpha'].shape[1]\n",
    "    num_samples = ps['alpha'].shape[0]\n",
    "    for chain_number in range(ps['alpha'].shape[1]):\n",
    "        for i in range(num_samples):\n",
    "            sign1 = np.sign(ps['beta'][i,chain_number,0,0])\n",
    "            sign2 = np.sign(ps['beta'][i,chain_number,3,1])\n",
    "            ps['beta'][i,chain_number,:3,0] = ps['beta'][i,chain_number,:3,0] * sign1\n",
    "            ps['beta'][i,chain_number,3:,1] = ps['beta'][i,chain_number,3:,1] * sign2\n",
    "\n",
    "            if 'Phi_cov' in ps.keys():\n",
    "                ps['Phi_cov'][i,chain_number,0,1] = sign1 * sign2 * ps['Phi_cov'][i,chain_number,0,1]\n",
    "                ps['Phi_cov'][i,chain_number,1,0] = ps['Phi_cov'][i,chain_number,0,1]\n",
    "    \n",
    "    return ps\n",
    "\n",
    "def get_point_estimates(ps0, param_name, estimate_name):\n",
    "    ps = remove_cn_dimension(\n",
    "        clean_samples(ps0)[param_name]\n",
    "    )\n",
    "    if estimate_name == 'mean':\n",
    "        return np.mean(ps,axis=0)\n",
    "    elif estimate_name == 'median':\n",
    "        return np.median(ps, axis=0)\n",
    "\n",
    "    \n",
    "def get_credible_interval_beta(ps):\n",
    "    df = get_post_df(ps)\n",
    "    df_quant = df.groupby(['row', 'col'])[['value']].quantile(0.025).reset_index()\n",
    "    df_quant.rename({'value':'q1'}, axis=1, inplace=True)\n",
    "    df_quant2 = df.groupby(['row', 'col'])[['value']].quantile(0.975).reset_index()\n",
    "    df_quant2.rename({'value':'q2'}, axis=1, inplace=True)\n",
    "\n",
    "    df = df_quant.merge(df_quant2, on=['row', 'col'])\n",
    "\n",
    "    dd = pd.DataFrame(data['beta'], columns=['0', '1'])\n",
    "    dd['row'] = np.arange(dd.shape[0])\n",
    "    dd = dd.melt(id_vars='row', var_name='col', value_name = 'data')\n",
    "    dd['col'] = dd.col.astype(int)\n",
    "\n",
    "    plot_data = df.merge(dd, on=['row', 'col'])\n",
    "    plot_data['index'] = 'row ' + plot_data.row.astype(str)+' .col '+plot_data.col.astype(str)\n",
    "\n",
    "\n",
    "    c1 = alt.Chart(plot_data).mark_bar(opacity=0.6).encode(\n",
    "            alt.X('q1', title=None),\n",
    "            alt.X2('q2', title=None))\n",
    "    c1\n",
    "\n",
    "\n",
    "\n",
    "    c2 = alt.Chart(plot_data).mark_point(opacity=1, color='red').encode(\n",
    "            alt.X('data', title=None)\n",
    "    )\n",
    "    return (c1+c2\n",
    "            ).facet(\n",
    "                   'index',\n",
    "                columns=2\n",
    "                )\n",
    "\n",
    "\n",
    "def get_credible_interval_Phi(ps):\n",
    "    df = get_post_df(ps)\n",
    "    df = df[(df.row==0)&(df.col==1)]\n",
    "    df_quant = df.groupby(['row', 'col'])[['value']].quantile(0.025).reset_index()\n",
    "    df_quant.rename({'value':'q1'}, axis=1, inplace=True)\n",
    "    df_quant2 = df.groupby(['row', 'col'])[['value']].quantile(0.975).reset_index()\n",
    "    df_quant2.rename({'value':'q2'}, axis=1, inplace=True)\n",
    "\n",
    "    plot_data = df_quant.merge(df_quant2, on=['row', 'col'])\n",
    "    plot_data['data'] = data['Phi_cov'][0,1]\n",
    "    plot_data\n",
    "    plot_data['index'] = 'row ' + plot_data.row.astype(str)+' .col '+plot_data.col.astype(str)\n",
    "\n",
    "\n",
    "    c1 = alt.Chart(plot_data).mark_bar(opacity=0.6).encode(\n",
    "            alt.X('q1', title=None),\n",
    "            alt.X2('q2', title=None))\n",
    "    c1\n",
    "\n",
    "\n",
    "\n",
    "    c2 = alt.Chart(plot_data).mark_point(opacity=1, color='red').encode(\n",
    "            alt.X('data', title=None)\n",
    "    )\n",
    "    return (c1+c2\n",
    "            ).facet(\n",
    "                   'index',\n",
    "                columns=2\n",
    "                )"
   ]
  },
  {
   "cell_type": "code",
   "execution_count": 5,
   "metadata": {},
   "outputs": [
    {
     "name": "stdout",
     "output_type": "stream",
     "text": [
      "Loading beta - Posterior Mean\n",
      "deviance mean\n",
      "[[0.         0.        ]\n",
      " [0.04339896 0.        ]\n",
      " [0.04005713 0.        ]\n",
      " [0.         0.        ]\n",
      " [0.         0.02665294]\n",
      " [0.         0.03078232]]\n",
      "deviance var\n",
      "[[0.         0.        ]\n",
      " [0.00440679 0.        ]\n",
      " [0.00210532 0.        ]\n",
      " [0.         0.        ]\n",
      " [0.         0.0033366 ]\n",
      " [0.         0.00197827]]\n"
     ]
    }
   ],
   "source": [
    "estimates = load_obj('beta_mean', log_dir)\n",
    "deviance = estimates - data['beta']\n",
    "mean_dev = np.mean(deviance, 0)\n",
    "var_dev = np.var(deviance, 0)\n",
    "print('Loading beta - Posterior Mean')\n",
    "print('deviance mean')\n",
    "print(mean_dev)\n",
    "print('deviance var')\n",
    "print(var_dev)"
   ]
  },
  {
   "cell_type": "code",
   "execution_count": 6,
   "metadata": {},
   "outputs": [
    {
     "name": "stdout",
     "output_type": "stream",
     "text": [
      "Loading beta - Posterior Median\n",
      "deviance mean\n",
      "[[0.         0.        ]\n",
      " [0.04102374 0.        ]\n",
      " [0.03740102 0.        ]\n",
      " [0.         0.        ]\n",
      " [0.         0.02415551]\n",
      " [0.         0.02789583]]\n",
      "deviance var\n",
      "[[0.         0.        ]\n",
      " [0.00440568 0.        ]\n",
      " [0.0021009  0.        ]\n",
      " [0.         0.        ]\n",
      " [0.         0.00332991]\n",
      " [0.         0.00193287]]\n"
     ]
    }
   ],
   "source": [
    "estimates = load_obj('beta_median', log_dir)\n",
    "deviance = estimates - data['beta']\n",
    "mean_dev = np.mean(deviance, 0)\n",
    "var_dev = np.var(deviance, 0)\n",
    "print('Loading beta - Posterior Median')\n",
    "print('deviance mean')\n",
    "print(mean_dev)\n",
    "print('deviance var')\n",
    "print(var_dev)"
   ]
  },
  {
   "cell_type": "code",
   "execution_count": 7,
   "metadata": {},
   "outputs": [
    {
     "name": "stdout",
     "output_type": "stream",
     "text": [
      "Factor Cov beta - Posterior Mean\n",
      "deviance mean\n",
      "[[-0.04585999 -0.0017504 ]\n",
      " [-0.0017504  -0.06278371]]\n",
      "deviance var\n",
      "[[0.00917602 0.00194525]\n",
      " [0.00194525 0.00848935]]\n"
     ]
    }
   ],
   "source": [
    "estimates = load_obj('Phi_mean', log_dir)\n",
    "deviance = estimates - data['Phi_cov']\n",
    "mean_dev = np.mean(deviance, 0)\n",
    "var_dev = np.var(deviance, 0)\n",
    "print('Factor Cov beta - Posterior Mean')\n",
    "print('deviance mean')\n",
    "print(mean_dev)\n",
    "print('deviance var')\n",
    "print(var_dev)"
   ]
  },
  {
   "cell_type": "code",
   "execution_count": 8,
   "metadata": {},
   "outputs": [
    {
     "name": "stdout",
     "output_type": "stream",
     "text": [
      "Factor Cov beta - Posterior Median\n",
      "deviance mean\n",
      "[[-0.04919106 -0.00181927]\n",
      " [-0.00181927 -0.06607426]]\n",
      "deviance var\n",
      "[[0.00920912 0.00191984]\n",
      " [0.00191984 0.00850967]]\n"
     ]
    }
   ],
   "source": [
    "estimates = load_obj('Phi_median', log_dir)\n",
    "deviance = estimates - data['Phi_cov']\n",
    "mean_dev = np.mean(deviance, 0)\n",
    "var_dev = np.var(deviance, 0)\n",
    "print('Factor Cov beta - Posterior Median')\n",
    "print('deviance mean')\n",
    "print(mean_dev)\n",
    "print('deviance var')\n",
    "print(var_dev)"
   ]
  },
  {
   "cell_type": "code",
   "execution_count": 11,
   "metadata": {},
   "outputs": [
    {
     "data": {
      "text/plain": [
       "array([[20., 20.],\n",
       "       [18., 20.],\n",
       "       [18., 20.],\n",
       "       [20., 20.],\n",
       "       [20., 20.],\n",
       "       [20., 20.]])"
      ]
     },
     "execution_count": 11,
     "metadata": {},
     "output_type": "execute_result"
    }
   ],
   "source": [
    "\n",
    "p = np.empty((20,6,2))\n",
    "for i in range(20):\n",
    "    qtl = load_obj('q_beta'+str(i), log_dir)\n",
    "    results = (qtl[0] <= data['beta'])&(qtl[1] >= data['beta'])\n",
    "    p[i] = results\n",
    "p.sum(axis=0)"
   ]
  },
  {
   "cell_type": "code",
   "execution_count": 12,
   "metadata": {},
   "outputs": [
    {
     "data": {
      "text/plain": [
       "array([[18., 19.],\n",
       "       [19., 19.]])"
      ]
     },
     "execution_count": 12,
     "metadata": {},
     "output_type": "execute_result"
    }
   ],
   "source": [
    "\n",
    "p = np.empty((20,2,2))\n",
    "for i in range(20):\n",
    "    qtl = load_obj('q_Phi_cov'+str(i), log_dir)\n",
    "    results = (qtl[0] <= data['Phi_cov'])&(qtl[1] >= data['Phi_cov'])\n",
    "    p[i] = results\n",
    "p.sum(axis=0)   "
   ]
  },
  {
   "cell_type": "code",
   "execution_count": 13,
   "metadata": {},
   "outputs": [
    {
     "data": {
      "text/html": [
       "\n",
       "<div id=\"altair-viz-c2d52f1b79d34cf3b45681f9dbc3e39c\"></div>\n",
       "<script type=\"text/javascript\">\n",
       "  (function(spec, embedOpt){\n",
       "    let outputDiv = document.currentScript.previousElementSibling;\n",
       "    if (outputDiv.id !== \"altair-viz-c2d52f1b79d34cf3b45681f9dbc3e39c\") {\n",
       "      outputDiv = document.getElementById(\"altair-viz-c2d52f1b79d34cf3b45681f9dbc3e39c\");\n",
       "    }\n",
       "    const paths = {\n",
       "      \"vega\": \"https://cdn.jsdelivr.net/npm//vega@5?noext\",\n",
       "      \"vega-lib\": \"https://cdn.jsdelivr.net/npm//vega-lib?noext\",\n",
       "      \"vega-lite\": \"https://cdn.jsdelivr.net/npm//vega-lite@4.8.1?noext\",\n",
       "      \"vega-embed\": \"https://cdn.jsdelivr.net/npm//vega-embed@6?noext\",\n",
       "    };\n",
       "\n",
       "    function loadScript(lib) {\n",
       "      return new Promise(function(resolve, reject) {\n",
       "        var s = document.createElement('script');\n",
       "        s.src = paths[lib];\n",
       "        s.async = true;\n",
       "        s.onload = () => resolve(paths[lib]);\n",
       "        s.onerror = () => reject(`Error loading script: ${paths[lib]}`);\n",
       "        document.getElementsByTagName(\"head\")[0].appendChild(s);\n",
       "      });\n",
       "    }\n",
       "\n",
       "    function showError(err) {\n",
       "      outputDiv.innerHTML = `<div class=\"error\" style=\"color:red;\">${err}</div>`;\n",
       "      throw err;\n",
       "    }\n",
       "\n",
       "    function displayChart(vegaEmbed) {\n",
       "      vegaEmbed(outputDiv, spec, embedOpt)\n",
       "        .catch(err => showError(`Javascript Error: ${err.message}<br>This usually means there's a typo in your chart specification. See the javascript console for the full traceback.`));\n",
       "    }\n",
       "\n",
       "    if(typeof define === \"function\" && define.amd) {\n",
       "      requirejs.config({paths});\n",
       "      require([\"vega-embed\"], displayChart, err => showError(`Error loading script: ${err.message}`));\n",
       "    } else if (typeof vegaEmbed === \"function\") {\n",
       "      displayChart(vegaEmbed);\n",
       "    } else {\n",
       "      loadScript(\"vega\")\n",
       "        .then(() => loadScript(\"vega-lite\"))\n",
       "        .then(() => loadScript(\"vega-embed\"))\n",
       "        .catch(showError)\n",
       "        .then(() => displayChart(vegaEmbed));\n",
       "    }\n",
       "  })({\"config\": {\"view\": {\"continuousWidth\": 400, \"continuousHeight\": 300}}, \"data\": {\"name\": \"data-dd912cffbda605d304671497f0b7b908\"}, \"facet\": {\"type\": \"nominal\", \"field\": \"index\"}, \"spec\": {\"layer\": [{\"mark\": {\"type\": \"bar\", \"opacity\": 0.6}, \"encoding\": {\"x\": {\"type\": \"quantitative\", \"field\": \"q1\", \"title\": null}, \"x2\": {\"field\": \"q2\", \"title\": null}}}, {\"mark\": {\"type\": \"point\", \"color\": \"red\", \"opacity\": 1}, \"encoding\": {\"x\": {\"type\": \"quantitative\", \"field\": \"data\", \"title\": null}}}]}, \"columns\": 2, \"$schema\": \"https://vega.github.io/schema/vega-lite/v4.8.1.json\", \"datasets\": {\"data-dd912cffbda605d304671497f0b7b908\": [{\"row\": 0, \"col\": 0, \"q1\": 1.0, \"q2\": 1.0, \"data\": 1.0, \"index\": \"row 0 .col 0\"}, {\"row\": 0, \"col\": 1, \"q1\": 0.0, \"q2\": 0.0, \"data\": 0.0, \"index\": \"row 0 .col 1\"}, {\"row\": 1, \"col\": 0, \"q1\": 0.7264065351394338, \"q2\": 0.9809852079623836, \"data\": 0.8, \"index\": \"row 1 .col 0\"}, {\"row\": 1, \"col\": 1, \"q1\": 0.0, \"q2\": 0.0, \"data\": 0.0, \"index\": \"row 1 .col 1\"}, {\"row\": 2, \"col\": 0, \"q1\": 0.7859317008540863, \"q2\": 0.9472145537034666, \"data\": 0.8, \"index\": \"row 2 .col 0\"}, {\"row\": 2, \"col\": 1, \"q1\": 0.0, \"q2\": 0.0, \"data\": 0.0, \"index\": \"row 2 .col 1\"}, {\"row\": 3, \"col\": 0, \"q1\": 0.0, \"q2\": 0.0, \"data\": 0.0, \"index\": \"row 3 .col 0\"}, {\"row\": 3, \"col\": 1, \"q1\": 1.0, \"q2\": 1.0, \"data\": 1.0, \"index\": \"row 3 .col 1\"}, {\"row\": 4, \"col\": 0, \"q1\": 0.0, \"q2\": 0.0, \"data\": 0.0, \"index\": \"row 4 .col 0\"}, {\"row\": 4, \"col\": 1, \"q1\": 0.7259799363316032, \"q2\": 0.9200305381309871, \"data\": 0.8, \"index\": \"row 4 .col 1\"}, {\"row\": 5, \"col\": 0, \"q1\": 0.0, \"q2\": 0.0, \"data\": 0.0, \"index\": \"row 5 .col 0\"}, {\"row\": 5, \"col\": 1, \"q1\": 0.760925654573718, \"q2\": 0.8914394454839368, \"data\": 0.8, \"index\": \"row 5 .col 1\"}]}}, {\"mode\": \"vega-lite\"});\n",
       "</script>"
      ],
      "text/plain": [
       "alt.FacetChart(...)"
      ]
     },
     "execution_count": 13,
     "metadata": {},
     "output_type": "execute_result"
    }
   ],
   "source": [
    "estimates = load_obj('beta_mean', log_dir).reshape(20, 1, 6, 2)\n",
    "get_credible_interval_beta(estimates)"
   ]
  },
  {
   "cell_type": "code",
   "execution_count": 14,
   "metadata": {},
   "outputs": [
    {
     "data": {
      "text/html": [
       "\n",
       "<div id=\"altair-viz-378921b01fb741878e302063714b40df\"></div>\n",
       "<script type=\"text/javascript\">\n",
       "  (function(spec, embedOpt){\n",
       "    let outputDiv = document.currentScript.previousElementSibling;\n",
       "    if (outputDiv.id !== \"altair-viz-378921b01fb741878e302063714b40df\") {\n",
       "      outputDiv = document.getElementById(\"altair-viz-378921b01fb741878e302063714b40df\");\n",
       "    }\n",
       "    const paths = {\n",
       "      \"vega\": \"https://cdn.jsdelivr.net/npm//vega@5?noext\",\n",
       "      \"vega-lib\": \"https://cdn.jsdelivr.net/npm//vega-lib?noext\",\n",
       "      \"vega-lite\": \"https://cdn.jsdelivr.net/npm//vega-lite@4.8.1?noext\",\n",
       "      \"vega-embed\": \"https://cdn.jsdelivr.net/npm//vega-embed@6?noext\",\n",
       "    };\n",
       "\n",
       "    function loadScript(lib) {\n",
       "      return new Promise(function(resolve, reject) {\n",
       "        var s = document.createElement('script');\n",
       "        s.src = paths[lib];\n",
       "        s.async = true;\n",
       "        s.onload = () => resolve(paths[lib]);\n",
       "        s.onerror = () => reject(`Error loading script: ${paths[lib]}`);\n",
       "        document.getElementsByTagName(\"head\")[0].appendChild(s);\n",
       "      });\n",
       "    }\n",
       "\n",
       "    function showError(err) {\n",
       "      outputDiv.innerHTML = `<div class=\"error\" style=\"color:red;\">${err}</div>`;\n",
       "      throw err;\n",
       "    }\n",
       "\n",
       "    function displayChart(vegaEmbed) {\n",
       "      vegaEmbed(outputDiv, spec, embedOpt)\n",
       "        .catch(err => showError(`Javascript Error: ${err.message}<br>This usually means there's a typo in your chart specification. See the javascript console for the full traceback.`));\n",
       "    }\n",
       "\n",
       "    if(typeof define === \"function\" && define.amd) {\n",
       "      requirejs.config({paths});\n",
       "      require([\"vega-embed\"], displayChart, err => showError(`Error loading script: ${err.message}`));\n",
       "    } else if (typeof vegaEmbed === \"function\") {\n",
       "      displayChart(vegaEmbed);\n",
       "    } else {\n",
       "      loadScript(\"vega\")\n",
       "        .then(() => loadScript(\"vega-lite\"))\n",
       "        .then(() => loadScript(\"vega-embed\"))\n",
       "        .catch(showError)\n",
       "        .then(() => displayChart(vegaEmbed));\n",
       "    }\n",
       "  })({\"config\": {\"view\": {\"continuousWidth\": 400, \"continuousHeight\": 300}}, \"data\": {\"name\": \"data-48af92973d6485c3407c99edec3f5c53\"}, \"facet\": {\"type\": \"nominal\", \"field\": \"index\"}, \"spec\": {\"layer\": [{\"mark\": {\"type\": \"bar\", \"opacity\": 0.6}, \"encoding\": {\"x\": {\"type\": \"quantitative\", \"field\": \"q1\", \"title\": null}, \"x2\": {\"field\": \"q2\", \"title\": null}}}, {\"mark\": {\"type\": \"point\", \"color\": \"red\", \"opacity\": 1}, \"encoding\": {\"x\": {\"type\": \"quantitative\", \"field\": \"data\", \"title\": null}}}]}, \"columns\": 2, \"$schema\": \"https://vega.github.io/schema/vega-lite/v4.8.1.json\", \"datasets\": {\"data-48af92973d6485c3407c99edec3f5c53\": [{\"row\": 0, \"col\": 0, \"q1\": 1.0, \"q2\": 1.0, \"data\": 1.0, \"index\": \"row 0 .col 0\"}, {\"row\": 0, \"col\": 1, \"q1\": 0.0, \"q2\": 0.0, \"data\": 0.0, \"index\": \"row 0 .col 1\"}, {\"row\": 1, \"col\": 0, \"q1\": 0.7241363097335207, \"q2\": 0.9786998022007454, \"data\": 0.8, \"index\": \"row 1 .col 0\"}, {\"row\": 1, \"col\": 1, \"q1\": 0.0, \"q2\": 0.0, \"data\": 0.0, \"index\": \"row 1 .col 1\"}, {\"row\": 2, \"col\": 0, \"q1\": 0.7830819914134338, \"q2\": 0.9452187890765155, \"data\": 0.8, \"index\": \"row 2 .col 0\"}, {\"row\": 2, \"col\": 1, \"q1\": 0.0, \"q2\": 0.0, \"data\": 0.0, \"index\": \"row 2 .col 1\"}, {\"row\": 3, \"col\": 0, \"q1\": 0.0, \"q2\": 0.0, \"data\": 0.0, \"index\": \"row 3 .col 0\"}, {\"row\": 3, \"col\": 1, \"q1\": 1.0, \"q2\": 1.0, \"data\": 1.0, \"index\": \"row 3 .col 1\"}, {\"row\": 4, \"col\": 0, \"q1\": 0.0, \"q2\": 0.0, \"data\": 0.0, \"index\": \"row 4 .col 0\"}, {\"row\": 4, \"col\": 1, \"q1\": 0.7238400758384286, \"q2\": 0.917293933522662, \"data\": 0.8, \"index\": \"row 4 .col 1\"}, {\"row\": 5, \"col\": 0, \"q1\": 0.0, \"q2\": 0.0, \"data\": 0.0, \"index\": \"row 5 .col 0\"}, {\"row\": 5, \"col\": 1, \"q1\": 0.7583407996517321, \"q2\": 0.8876795919984225, \"data\": 0.8, \"index\": \"row 5 .col 1\"}]}}, {\"mode\": \"vega-lite\"});\n",
       "</script>"
      ],
      "text/plain": [
       "alt.FacetChart(...)"
      ]
     },
     "execution_count": 14,
     "metadata": {},
     "output_type": "execute_result"
    }
   ],
   "source": [
    "estimates = load_obj('beta_median', log_dir).reshape(20, 1, 6, 2)\n",
    "get_credible_interval_beta(estimates)"
   ]
  },
  {
   "cell_type": "code",
   "execution_count": 15,
   "metadata": {},
   "outputs": [
    {
     "data": {
      "text/html": [
       "\n",
       "<div id=\"altair-viz-ef9d667c7d5a4430b16236acbdd54850\"></div>\n",
       "<script type=\"text/javascript\">\n",
       "  (function(spec, embedOpt){\n",
       "    let outputDiv = document.currentScript.previousElementSibling;\n",
       "    if (outputDiv.id !== \"altair-viz-ef9d667c7d5a4430b16236acbdd54850\") {\n",
       "      outputDiv = document.getElementById(\"altair-viz-ef9d667c7d5a4430b16236acbdd54850\");\n",
       "    }\n",
       "    const paths = {\n",
       "      \"vega\": \"https://cdn.jsdelivr.net/npm//vega@5?noext\",\n",
       "      \"vega-lib\": \"https://cdn.jsdelivr.net/npm//vega-lib?noext\",\n",
       "      \"vega-lite\": \"https://cdn.jsdelivr.net/npm//vega-lite@4.8.1?noext\",\n",
       "      \"vega-embed\": \"https://cdn.jsdelivr.net/npm//vega-embed@6?noext\",\n",
       "    };\n",
       "\n",
       "    function loadScript(lib) {\n",
       "      return new Promise(function(resolve, reject) {\n",
       "        var s = document.createElement('script');\n",
       "        s.src = paths[lib];\n",
       "        s.async = true;\n",
       "        s.onload = () => resolve(paths[lib]);\n",
       "        s.onerror = () => reject(`Error loading script: ${paths[lib]}`);\n",
       "        document.getElementsByTagName(\"head\")[0].appendChild(s);\n",
       "      });\n",
       "    }\n",
       "\n",
       "    function showError(err) {\n",
       "      outputDiv.innerHTML = `<div class=\"error\" style=\"color:red;\">${err}</div>`;\n",
       "      throw err;\n",
       "    }\n",
       "\n",
       "    function displayChart(vegaEmbed) {\n",
       "      vegaEmbed(outputDiv, spec, embedOpt)\n",
       "        .catch(err => showError(`Javascript Error: ${err.message}<br>This usually means there's a typo in your chart specification. See the javascript console for the full traceback.`));\n",
       "    }\n",
       "\n",
       "    if(typeof define === \"function\" && define.amd) {\n",
       "      requirejs.config({paths});\n",
       "      require([\"vega-embed\"], displayChart, err => showError(`Error loading script: ${err.message}`));\n",
       "    } else if (typeof vegaEmbed === \"function\") {\n",
       "      displayChart(vegaEmbed);\n",
       "    } else {\n",
       "      loadScript(\"vega\")\n",
       "        .then(() => loadScript(\"vega-lite\"))\n",
       "        .then(() => loadScript(\"vega-embed\"))\n",
       "        .catch(showError)\n",
       "        .then(() => displayChart(vegaEmbed));\n",
       "    }\n",
       "  })({\"config\": {\"view\": {\"continuousWidth\": 400, \"continuousHeight\": 300}}, \"data\": {\"name\": \"data-50e52b6cba9fdbbf85f66ed61f389f81\"}, \"facet\": {\"type\": \"nominal\", \"field\": \"index\"}, \"spec\": {\"layer\": [{\"mark\": {\"type\": \"bar\", \"opacity\": 0.6}, \"encoding\": {\"x\": {\"type\": \"quantitative\", \"field\": \"q1\", \"title\": null}, \"x2\": {\"field\": \"q2\", \"title\": null}}}, {\"mark\": {\"type\": \"point\", \"color\": \"red\", \"opacity\": 1}, \"encoding\": {\"x\": {\"type\": \"quantitative\", \"field\": \"data\", \"title\": null}}}]}, \"columns\": 2, \"$schema\": \"https://vega.github.io/schema/vega-lite/v4.8.1.json\", \"datasets\": {\"data-50e52b6cba9fdbbf85f66ed61f389f81\": [{\"row\": 0, \"col\": 1, \"q1\": -0.07070834651809885, \"q2\": 0.08094079205019955, \"data\": 0.0, \"index\": \"row 0 .col 1\"}]}}, {\"mode\": \"vega-lite\"});\n",
       "</script>"
      ],
      "text/plain": [
       "alt.FacetChart(...)"
      ]
     },
     "execution_count": 15,
     "metadata": {},
     "output_type": "execute_result"
    }
   ],
   "source": [
    "estimates = load_obj('Phi_mean', log_dir).reshape(20, 1, 2, 2)\n",
    "get_credible_interval_Phi(estimates)"
   ]
  },
  {
   "cell_type": "code",
   "execution_count": 16,
   "metadata": {},
   "outputs": [
    {
     "data": {
      "text/html": [
       "\n",
       "<div id=\"altair-viz-95e65b4a01eb4d8aba5d94cac7b6a351\"></div>\n",
       "<script type=\"text/javascript\">\n",
       "  (function(spec, embedOpt){\n",
       "    let outputDiv = document.currentScript.previousElementSibling;\n",
       "    if (outputDiv.id !== \"altair-viz-95e65b4a01eb4d8aba5d94cac7b6a351\") {\n",
       "      outputDiv = document.getElementById(\"altair-viz-95e65b4a01eb4d8aba5d94cac7b6a351\");\n",
       "    }\n",
       "    const paths = {\n",
       "      \"vega\": \"https://cdn.jsdelivr.net/npm//vega@5?noext\",\n",
       "      \"vega-lib\": \"https://cdn.jsdelivr.net/npm//vega-lib?noext\",\n",
       "      \"vega-lite\": \"https://cdn.jsdelivr.net/npm//vega-lite@4.8.1?noext\",\n",
       "      \"vega-embed\": \"https://cdn.jsdelivr.net/npm//vega-embed@6?noext\",\n",
       "    };\n",
       "\n",
       "    function loadScript(lib) {\n",
       "      return new Promise(function(resolve, reject) {\n",
       "        var s = document.createElement('script');\n",
       "        s.src = paths[lib];\n",
       "        s.async = true;\n",
       "        s.onload = () => resolve(paths[lib]);\n",
       "        s.onerror = () => reject(`Error loading script: ${paths[lib]}`);\n",
       "        document.getElementsByTagName(\"head\")[0].appendChild(s);\n",
       "      });\n",
       "    }\n",
       "\n",
       "    function showError(err) {\n",
       "      outputDiv.innerHTML = `<div class=\"error\" style=\"color:red;\">${err}</div>`;\n",
       "      throw err;\n",
       "    }\n",
       "\n",
       "    function displayChart(vegaEmbed) {\n",
       "      vegaEmbed(outputDiv, spec, embedOpt)\n",
       "        .catch(err => showError(`Javascript Error: ${err.message}<br>This usually means there's a typo in your chart specification. See the javascript console for the full traceback.`));\n",
       "    }\n",
       "\n",
       "    if(typeof define === \"function\" && define.amd) {\n",
       "      requirejs.config({paths});\n",
       "      require([\"vega-embed\"], displayChart, err => showError(`Error loading script: ${err.message}`));\n",
       "    } else if (typeof vegaEmbed === \"function\") {\n",
       "      displayChart(vegaEmbed);\n",
       "    } else {\n",
       "      loadScript(\"vega\")\n",
       "        .then(() => loadScript(\"vega-lite\"))\n",
       "        .then(() => loadScript(\"vega-embed\"))\n",
       "        .catch(showError)\n",
       "        .then(() => displayChart(vegaEmbed));\n",
       "    }\n",
       "  })({\"config\": {\"view\": {\"continuousWidth\": 400, \"continuousHeight\": 300}}, \"data\": {\"name\": \"data-e8f1a1497d224fce17286e03ffbb51f0\"}, \"facet\": {\"type\": \"nominal\", \"field\": \"index\"}, \"spec\": {\"layer\": [{\"mark\": {\"type\": \"bar\", \"opacity\": 0.6}, \"encoding\": {\"x\": {\"type\": \"quantitative\", \"field\": \"q1\", \"title\": null}, \"x2\": {\"field\": \"q2\", \"title\": null}}}, {\"mark\": {\"type\": \"point\", \"color\": \"red\", \"opacity\": 1}, \"encoding\": {\"x\": {\"type\": \"quantitative\", \"field\": \"data\", \"title\": null}}}]}, \"columns\": 2, \"$schema\": \"https://vega.github.io/schema/vega-lite/v4.8.1.json\", \"datasets\": {\"data-e8f1a1497d224fce17286e03ffbb51f0\": [{\"row\": 0, \"col\": 1, \"q1\": -0.0702707042148138, \"q2\": 0.08005660448165898, \"data\": 0.0, \"index\": \"row 0 .col 1\"}]}}, {\"mode\": \"vega-lite\"});\n",
       "</script>"
      ],
      "text/plain": [
       "alt.FacetChart(...)"
      ]
     },
     "execution_count": 16,
     "metadata": {},
     "output_type": "execute_result"
    }
   ],
   "source": [
    "estimates = load_obj('Phi_median', log_dir).reshape(20, 1, 2, 2)\n",
    "get_credible_interval_Phi(estimates)"
   ]
  },
  {
   "cell_type": "code",
   "execution_count": null,
   "metadata": {},
   "outputs": [],
   "source": []
  }
 ],
 "metadata": {
  "kernelspec": {
   "display_name": "Python 3",
   "language": "python",
   "name": "python3"
  },
  "language_info": {
   "codemirror_mode": {
    "name": "ipython",
    "version": 3
   },
   "file_extension": ".py",
   "mimetype": "text/x-python",
   "name": "python",
   "nbconvert_exporter": "python",
   "pygments_lexer": "ipython3",
   "version": "3.7.6"
  }
 },
 "nbformat": 4,
 "nbformat_minor": 2
}
